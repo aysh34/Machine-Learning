{
 "cells": [
  {
   "cell_type": "markdown",
   "id": "abdf4879-e9f2-441d-9f26-077d1ce23764",
   "metadata": {},
   "source": [
    "# Creating series through real world datasets"
   ]
  },
  {
   "cell_type": "code",
   "execution_count": 1,
   "id": "dea4c9c5-eed9-4aa7-80da-407874cdf305",
   "metadata": {},
   "outputs": [],
   "source": [
    "import numpy as np"
   ]
  },
  {
   "cell_type": "code",
   "execution_count": 2,
   "id": "7b2f8578-0fa2-47b2-99fe-1afab3ce0573",
   "metadata": {},
   "outputs": [],
   "source": [
    "import pandas as pd"
   ]
  },
  {
   "cell_type": "code",
   "execution_count": 3,
   "id": "ca33ada6-43eb-4d2d-a661-0feb58d51b0e",
   "metadata": {},
   "outputs": [
    {
     "data": {
      "text/html": [
       "<div>\n",
       "<style scoped>\n",
       "    .dataframe tbody tr th:only-of-type {\n",
       "        vertical-align: middle;\n",
       "    }\n",
       "\n",
       "    .dataframe tbody tr th {\n",
       "        vertical-align: top;\n",
       "    }\n",
       "\n",
       "    .dataframe thead th {\n",
       "        text-align: right;\n",
       "    }\n",
       "</style>\n",
       "<table border=\"1\" class=\"dataframe\">\n",
       "  <thead>\n",
       "    <tr style=\"text-align: right;\">\n",
       "      <th></th>\n",
       "      <th>Subscribers gained</th>\n",
       "    </tr>\n",
       "  </thead>\n",
       "  <tbody>\n",
       "    <tr>\n",
       "      <th>0</th>\n",
       "      <td>48</td>\n",
       "    </tr>\n",
       "    <tr>\n",
       "      <th>1</th>\n",
       "      <td>57</td>\n",
       "    </tr>\n",
       "    <tr>\n",
       "      <th>2</th>\n",
       "      <td>40</td>\n",
       "    </tr>\n",
       "    <tr>\n",
       "      <th>3</th>\n",
       "      <td>43</td>\n",
       "    </tr>\n",
       "    <tr>\n",
       "      <th>4</th>\n",
       "      <td>44</td>\n",
       "    </tr>\n",
       "    <tr>\n",
       "      <th>...</th>\n",
       "      <td>...</td>\n",
       "    </tr>\n",
       "    <tr>\n",
       "      <th>360</th>\n",
       "      <td>231</td>\n",
       "    </tr>\n",
       "    <tr>\n",
       "      <th>361</th>\n",
       "      <td>226</td>\n",
       "    </tr>\n",
       "    <tr>\n",
       "      <th>362</th>\n",
       "      <td>155</td>\n",
       "    </tr>\n",
       "    <tr>\n",
       "      <th>363</th>\n",
       "      <td>144</td>\n",
       "    </tr>\n",
       "    <tr>\n",
       "      <th>364</th>\n",
       "      <td>172</td>\n",
       "    </tr>\n",
       "  </tbody>\n",
       "</table>\n",
       "<p>365 rows × 1 columns</p>\n",
       "</div>"
      ],
      "text/plain": [
       "     Subscribers gained\n",
       "0                    48\n",
       "1                    57\n",
       "2                    40\n",
       "3                    43\n",
       "4                    44\n",
       "..                  ...\n",
       "360                 231\n",
       "361                 226\n",
       "362                 155\n",
       "363                 144\n",
       "364                 172\n",
       "\n",
       "[365 rows x 1 columns]"
      ]
     },
     "execution_count": 3,
     "metadata": {},
     "output_type": "execute_result"
    }
   ],
   "source": [
    "pd.read_csv('subs.csv') # by default it reads data and store in dataframe format"
   ]
  },
  {
   "cell_type": "code",
   "execution_count": 4,
   "id": "bd2e88b9-80d0-4cf5-9695-8ad3068cf7ad",
   "metadata": {},
   "outputs": [
    {
     "data": {
      "text/plain": [
       "pandas.core.frame.DataFrame"
      ]
     },
     "execution_count": 4,
     "metadata": {},
     "output_type": "execute_result"
    }
   ],
   "source": [
    "type(pd.read_csv('subs.csv'))"
   ]
  },
  {
   "cell_type": "code",
   "execution_count": 5,
   "id": "d7529be3-04a5-41df-8ffb-428c558db1e8",
   "metadata": {},
   "outputs": [
    {
     "data": {
      "text/plain": [
       "0       48\n",
       "1       57\n",
       "2       40\n",
       "3       43\n",
       "4       44\n",
       "      ... \n",
       "360    231\n",
       "361    226\n",
       "362    155\n",
       "363    144\n",
       "364    172\n",
       "Name: Subscribers gained, Length: 365, dtype: int64"
      ]
     },
     "execution_count": 5,
     "metadata": {},
     "output_type": "execute_result"
    }
   ],
   "source": [
    "subs_ser = pd.read_csv('subs.csv').squeeze() # convert from dataframe to series\n",
    "subs_ser"
   ]
  },
  {
   "cell_type": "code",
   "execution_count": 6,
   "id": "70ba78ef-4c72-4a27-83cf-ae3adf3948ec",
   "metadata": {},
   "outputs": [
    {
     "data": {
      "text/plain": [
       "pandas.core.series.Series"
      ]
     },
     "execution_count": 6,
     "metadata": {},
     "output_type": "execute_result"
    }
   ],
   "source": [
    "type(subs_ser)"
   ]
  },
  {
   "cell_type": "code",
   "execution_count": 7,
   "id": "00b56418-e264-42e5-a3f4-d1ea24d52429",
   "metadata": {},
   "outputs": [
    {
     "data": {
      "text/plain": [
       "match_no\n",
       "1       1\n",
       "2      23\n",
       "3      13\n",
       "4      12\n",
       "5       1\n",
       "       ..\n",
       "211     0\n",
       "212    20\n",
       "213    73\n",
       "214    25\n",
       "215     7\n",
       "Name: runs, Length: 215, dtype: int64"
      ]
     },
     "execution_count": 7,
     "metadata": {},
     "output_type": "execute_result"
    }
   ],
   "source": [
    "kholi_ser = pd.read_csv('kohli_ipl.csv',index_col='match_no').squeeze() # 2 cols in the dataset\n",
    "kholi_ser"
   ]
  },
  {
   "cell_type": "code",
   "execution_count": 8,
   "id": "1995d08e-7ccf-4021-b6bf-98ebccec69d6",
   "metadata": {},
   "outputs": [
    {
     "data": {
      "text/plain": [
       "pandas.core.series.Series"
      ]
     },
     "execution_count": 8,
     "metadata": {},
     "output_type": "execute_result"
    }
   ],
   "source": [
    "type(kholi_ser)"
   ]
  },
  {
   "cell_type": "code",
   "execution_count": 9,
   "id": "3388f7cf-609e-4e5f-8245-979dcb9c97a1",
   "metadata": {},
   "outputs": [
    {
     "data": {
      "text/plain": [
       "movie\n",
       "Uri: The Surgical Strike                   Vicky Kaushal\n",
       "Battalion 609                                Vicky Ahuja\n",
       "The Accidental Prime Minister (film)         Anupam Kher\n",
       "Why Cheat India                            Emraan Hashmi\n",
       "Evening Shadows                         Mona Ambegaonkar\n",
       "                                              ...       \n",
       "Hum Tumhare Hain Sanam                    Shah Rukh Khan\n",
       "Aankhen (2002 film)                     Amitabh Bachchan\n",
       "Saathiya (film)                             Vivek Oberoi\n",
       "Company (film)                                Ajay Devgn\n",
       "Awara Paagal Deewana                        Akshay Kumar\n",
       "Name: lead, Length: 1500, dtype: object"
      ]
     },
     "execution_count": 9,
     "metadata": {},
     "output_type": "execute_result"
    }
   ],
   "source": [
    "bollywood_ser = pd.read_csv('bollywood.csv',index_col='movie').squeeze() # 2 cols in the dataset\n",
    "bollywood_ser"
   ]
  },
  {
   "cell_type": "markdown",
   "id": "a677b26b-4389-4a34-8001-14cf7bce72d1",
   "metadata": {},
   "source": [
    "# Series Methods\n",
    "- head()\n",
    "- tail()\n",
    "- sample()\n",
    "- value_counts()\n",
    "- sort_values()\n",
    "- sort_index()"
   ]
  },
  {
   "cell_type": "code",
   "execution_count": 10,
   "id": "d6528269-f702-43c6-ad77-017bc641b96f",
   "metadata": {},
   "outputs": [
    {
     "data": {
      "text/plain": [
       "0    48\n",
       "1    57\n",
       "2    40\n",
       "3    43\n",
       "4    44\n",
       "Name: Subscribers gained, dtype: int64"
      ]
     },
     "execution_count": 10,
     "metadata": {},
     "output_type": "execute_result"
    }
   ],
   "source": [
    "subs_ser.head() # head() gives the preview of the dataset by default it shows 5 rows"
   ]
  },
  {
   "cell_type": "code",
   "execution_count": 11,
   "id": "efbb4429-dc7f-420b-aff5-a1c74382eb24",
   "metadata": {},
   "outputs": [
    {
     "data": {
      "text/plain": [
       "0    48\n",
       "1    57\n",
       "2    40\n",
       "Name: Subscribers gained, dtype: int64"
      ]
     },
     "execution_count": 11,
     "metadata": {},
     "output_type": "execute_result"
    }
   ],
   "source": [
    "subs_ser.head(3)"
   ]
  },
  {
   "cell_type": "code",
   "execution_count": 12,
   "id": "51fad46f-3bc2-4f78-ae5d-b9360b10b4f0",
   "metadata": {},
   "outputs": [
    {
     "data": {
      "text/plain": [
       "match_no\n",
       "211     0\n",
       "212    20\n",
       "213    73\n",
       "214    25\n",
       "215     7\n",
       "Name: runs, dtype: int64"
      ]
     },
     "execution_count": 12,
     "metadata": {},
     "output_type": "execute_result"
    }
   ],
   "source": [
    "kholi_ser.tail() # bottom 5 rows by default"
   ]
  },
  {
   "cell_type": "code",
   "execution_count": 13,
   "id": "cb11d7c4-c841-4d0b-b99a-7bc033ca0100",
   "metadata": {},
   "outputs": [
    {
     "data": {
      "text/plain": [
       "movie\n",
       "Qarib Qarib Singlle     Irrfan Khan\n",
       "Inkaar (2013 film)     Arjun Rampal\n",
       "Kucch Luv Jaisaa       Shefali Shah\n",
       "Name: lead, dtype: object"
      ]
     },
     "execution_count": 13,
     "metadata": {},
     "output_type": "execute_result"
    }
   ],
   "source": [
    "bollywood_ser.sample(3) # random selection"
   ]
  },
  {
   "cell_type": "code",
   "execution_count": 14,
   "id": "4d0f92b4-62d0-4703-89dd-eeb9df74af2c",
   "metadata": {},
   "outputs": [],
   "source": [
    "# when to use sample?\n",
    "# when you have some kind of biasness in your dataset and you want to select randomly"
   ]
  },
  {
   "cell_type": "code",
   "execution_count": 15,
   "id": "20bd2c7d-fd1d-490b-9153-16c6b73658e6",
   "metadata": {},
   "outputs": [
    {
     "data": {
      "text/plain": [
       "movie\n",
       "Uri: The Surgical Strike                   Vicky Kaushal\n",
       "Battalion 609                                Vicky Ahuja\n",
       "The Accidental Prime Minister (film)         Anupam Kher\n",
       "Why Cheat India                            Emraan Hashmi\n",
       "Evening Shadows                         Mona Ambegaonkar\n",
       "                                              ...       \n",
       "Hum Tumhare Hain Sanam                    Shah Rukh Khan\n",
       "Aankhen (2002 film)                     Amitabh Bachchan\n",
       "Saathiya (film)                             Vivek Oberoi\n",
       "Company (film)                                Ajay Devgn\n",
       "Awara Paagal Deewana                        Akshay Kumar\n",
       "Name: lead, Length: 1500, dtype: object"
      ]
     },
     "execution_count": 15,
     "metadata": {},
     "output_type": "execute_result"
    }
   ],
   "source": [
    "bollywood_ser"
   ]
  },
  {
   "cell_type": "code",
   "execution_count": 16,
   "id": "57129e98-830e-4b82-a4cf-d63418aef378",
   "metadata": {},
   "outputs": [
    {
     "data": {
      "text/plain": [
       "lead\n",
       "Akshay Kumar        48\n",
       "Amitabh Bachchan    45\n",
       "Ajay Devgn          38\n",
       "Salman Khan         31\n",
       "Sanjay Dutt         26\n",
       "                    ..\n",
       "Diganth              1\n",
       "Parveen Kaur         1\n",
       "Seema Azmi           1\n",
       "Akanksha Puri        1\n",
       "Edwin Fernandes      1\n",
       "Name: count, Length: 566, dtype: int64"
      ]
     },
     "execution_count": 16,
     "metadata": {},
     "output_type": "execute_result"
    }
   ],
   "source": [
    "# Tell each actor has done how many movies \n",
    "bollywood_ser.value_counts() # frequency count of each value in series in asce order"
   ]
  },
  {
   "cell_type": "code",
   "execution_count": 17,
   "id": "f7d1df33-6c47-4449-8578-1a8ad8a72cba",
   "metadata": {},
   "outputs": [
    {
     "data": {
      "text/plain": [
       "match_no\n",
       "87       0\n",
       "211      0\n",
       "207      0\n",
       "206      0\n",
       "91       0\n",
       "      ... \n",
       "164    100\n",
       "120    100\n",
       "123    108\n",
       "126    109\n",
       "128    113\n",
       "Name: runs, Length: 215, dtype: int64"
      ]
     },
     "execution_count": 17,
     "metadata": {},
     "output_type": "execute_result"
    }
   ],
   "source": [
    "# sort_values (also can be done in-place)\n",
    "kholi_ser.sort_values() # asce order by default"
   ]
  },
  {
   "cell_type": "code",
   "execution_count": 18,
   "id": "ca2cdebe-ddf3-4dac-85d5-bbd2e4356680",
   "metadata": {},
   "outputs": [
    {
     "data": {
      "text/plain": [
       "match_no\n",
       "128    113\n",
       "126    109\n",
       "123    108\n",
       "164    100\n",
       "120    100\n",
       "      ... \n",
       "93       0\n",
       "211      0\n",
       "130      0\n",
       "8        0\n",
       "135      0\n",
       "Name: runs, Length: 215, dtype: int64"
      ]
     },
     "execution_count": 18,
     "metadata": {},
     "output_type": "execute_result"
    }
   ],
   "source": [
    "kholi_ser.sort_values(ascending=False) "
   ]
  },
  {
   "cell_type": "code",
   "execution_count": 19,
   "id": "b40db501-5aa9-49df-ac1b-d904942d61fc",
   "metadata": {},
   "outputs": [
    {
     "data": {
      "text/plain": [
       "113"
      ]
     },
     "execution_count": 19,
     "metadata": {},
     "output_type": "execute_result"
    }
   ],
   "source": [
    "# tell me the highest score of VK in IPL\n",
    "kholi_ser.sort_values(ascending=False).head(1).values[0] # method chaining "
   ]
  },
  {
   "cell_type": "code",
   "execution_count": 20,
   "id": "66354531-827b-458c-ad74-8559647025ea",
   "metadata": {},
   "outputs": [
    {
     "data": {
      "text/plain": [
       "movie\n",
       "1920 (film)                   Rajniesh Duggall\n",
       "1920: London                     Sharman Joshi\n",
       "1920: The Evil Returns             Vicky Ahuja\n",
       "1971 (2007 film)                Manoj Bajpayee\n",
       "2 States (2014 film)              Arjun Kapoor\n",
       "                                   ...        \n",
       "Zindagi 50-50                      Veena Malik\n",
       "Zindagi Na Milegi Dobara        Hrithik Roshan\n",
       "Zindagi Tere Naam           Mithun Chakraborty\n",
       "Zokkomon                       Darsheel Safary\n",
       "Zor Lagaa Ke...Haiya!            Meghan Jadhav\n",
       "Name: lead, Length: 1500, dtype: object"
      ]
     },
     "execution_count": 20,
     "metadata": {},
     "output_type": "execute_result"
    }
   ],
   "source": [
    "# sort_index\n",
    "bollywood_ser.sort_index() # if asked to sort movies alphabetically "
   ]
  },
  {
   "cell_type": "markdown",
   "id": "b742b915-8050-4ec0-9c68-53d6f85d04c4",
   "metadata": {},
   "source": [
    "# Series Math Methods\n",
    "- count\n",
    "- sum, product\n",
    "- mean, median, mode, std, var\n",
    "- min/max\n",
    "- describe"
   ]
  },
  {
   "cell_type": "code",
   "execution_count": 21,
   "id": "0a453812-215f-40f4-a8d4-7b0a1c51008e",
   "metadata": {},
   "outputs": [
    {
     "data": {
      "text/plain": [
       "215"
      ]
     },
     "execution_count": 21,
     "metadata": {},
     "output_type": "execute_result"
    }
   ],
   "source": [
    "kholi_ser.count() # how many rows in dataset"
   ]
  },
  {
   "cell_type": "code",
   "execution_count": 22,
   "id": "5d8957fc-f9db-4fdc-a454-ab9d880a5b8c",
   "metadata": {},
   "outputs": [
    {
     "data": {
      "text/plain": [
       "215"
      ]
     },
     "execution_count": 22,
     "metadata": {},
     "output_type": "execute_result"
    }
   ],
   "source": [
    "kholi_ser.size"
   ]
  },
  {
   "cell_type": "code",
   "execution_count": 23,
   "id": "f040ae15-65e2-4224-b0c5-d375dfc971cd",
   "metadata": {},
   "outputs": [],
   "source": [
    "# how count is diff from size\n",
    "# count -> count all non-missing values in a series\n",
    "# size -> count all values (non-missing(i.e NAN) + missing) in a series"
   ]
  },
  {
   "cell_type": "code",
   "execution_count": 24,
   "id": "f68f4165-a4eb-4529-afda-5c053244be98",
   "metadata": {},
   "outputs": [
    {
     "data": {
      "text/plain": [
       "49510"
      ]
     },
     "execution_count": 24,
     "metadata": {},
     "output_type": "execute_result"
    }
   ],
   "source": [
    "subs_ser.sum() # sum all the values"
   ]
  },
  {
   "cell_type": "code",
   "execution_count": 25,
   "id": "af6bbbb2-dfa4-4d50-9975-d019b2d00609",
   "metadata": {},
   "outputs": [
    {
     "data": {
      "text/plain": [
       "0"
      ]
     },
     "execution_count": 25,
     "metadata": {},
     "output_type": "execute_result"
    }
   ],
   "source": [
    "subs_ser.product()"
   ]
  },
  {
   "cell_type": "code",
   "execution_count": 26,
   "id": "75798db4-1dbd-4fcb-a5f6-dc682999ecd3",
   "metadata": {},
   "outputs": [
    {
     "data": {
      "text/plain": [
       "135.64383561643837"
      ]
     },
     "execution_count": 26,
     "metadata": {},
     "output_type": "execute_result"
    }
   ],
   "source": [
    "subs_ser.mean()"
   ]
  },
  {
   "cell_type": "code",
   "execution_count": 27,
   "id": "bde0360d-02ed-42dd-8d00-edfc418049ed",
   "metadata": {},
   "outputs": [
    {
     "data": {
      "text/plain": [
       "24.0"
      ]
     },
     "execution_count": 27,
     "metadata": {},
     "output_type": "execute_result"
    }
   ],
   "source": [
    "kholi_ser.median()"
   ]
  },
  {
   "cell_type": "code",
   "execution_count": 28,
   "id": "e1f68ca3-09a5-4505-ae93-67ccd57dd5f7",
   "metadata": {},
   "outputs": [
    {
     "data": {
      "text/plain": [
       "0    Akshay Kumar\n",
       "Name: lead, dtype: object"
      ]
     },
     "execution_count": 28,
     "metadata": {},
     "output_type": "execute_result"
    }
   ],
   "source": [
    "bollywood_ser.mode() # who have done most movies i.e most occuring value "
   ]
  },
  {
   "cell_type": "code",
   "execution_count": 29,
   "id": "7d910c41-3bce-407c-8d32-698a97ab1fdb",
   "metadata": {},
   "outputs": [
    {
     "data": {
      "text/plain": [
       "62.67502303725269"
      ]
     },
     "execution_count": 29,
     "metadata": {},
     "output_type": "execute_result"
    }
   ],
   "source": [
    "subs_ser.std()"
   ]
  },
  {
   "cell_type": "code",
   "execution_count": 30,
   "id": "6bc8d69d-3edd-4402-9cb5-3d2ac3b72141",
   "metadata": {},
   "outputs": [
    {
     "data": {
      "text/plain": [
       "688.0024777222344"
      ]
     },
     "execution_count": 30,
     "metadata": {},
     "output_type": "execute_result"
    }
   ],
   "source": [
    "kholi_ser.var()"
   ]
  },
  {
   "cell_type": "code",
   "execution_count": 31,
   "id": "895d0844-52f8-4bee-bad0-0b3fa23db384",
   "metadata": {},
   "outputs": [
    {
     "data": {
      "text/plain": [
       "396"
      ]
     },
     "execution_count": 31,
     "metadata": {},
     "output_type": "execute_result"
    }
   ],
   "source": [
    "subs_ser.max()"
   ]
  },
  {
   "cell_type": "code",
   "execution_count": 32,
   "id": "7de54b0e-df64-4bb4-b0ac-d1375bda2eb1",
   "metadata": {},
   "outputs": [
    {
     "data": {
      "text/plain": [
       "33"
      ]
     },
     "execution_count": 32,
     "metadata": {},
     "output_type": "execute_result"
    }
   ],
   "source": [
    "subs_ser.min()"
   ]
  },
  {
   "cell_type": "code",
   "execution_count": 33,
   "id": "2c25320f-4e97-4d3d-91e6-aea0bd89d653",
   "metadata": {},
   "outputs": [
    {
     "data": {
      "text/plain": [
       "count    215.000000\n",
       "mean      30.855814\n",
       "std       26.229801\n",
       "min        0.000000\n",
       "25%        9.000000\n",
       "50%       24.000000\n",
       "75%       48.000000\n",
       "max      113.000000\n",
       "Name: runs, dtype: float64"
      ]
     },
     "execution_count": 33,
     "metadata": {},
     "output_type": "execute_result"
    }
   ],
   "source": [
    "kholi_ser.describe() # gives you a summary"
   ]
  },
  {
   "cell_type": "code",
   "execution_count": null,
   "id": "3d290105-13f3-4b24-a781-72d625a6e097",
   "metadata": {},
   "outputs": [],
   "source": []
  }
 ],
 "metadata": {
  "kernelspec": {
   "display_name": "Python 3 (ipykernel)",
   "language": "python",
   "name": "python3"
  },
  "language_info": {
   "codemirror_mode": {
    "name": "ipython",
    "version": 3
   },
   "file_extension": ".py",
   "mimetype": "text/x-python",
   "name": "python",
   "nbconvert_exporter": "python",
   "pygments_lexer": "ipython3",
   "version": "3.12.7"
  }
 },
 "nbformat": 4,
 "nbformat_minor": 5
}
