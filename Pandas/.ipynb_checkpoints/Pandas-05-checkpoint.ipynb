{
 "cells": [
  {
   "cell_type": "markdown",
   "id": "df2f0a28-a959-432b-923b-253ec5d38f35",
   "metadata": {},
   "source": [
    "# Series important methods\n",
    "- astype\n",
    "- between\n",
    "- clip\n",
    "- drop_duplicates\n",
    "- isnull\n",
    "- dropna\n",
    "- fillna\n",
    "- isin\n",
    "- apply\n",
    "- copy  "
   ]
  },
  {
   "cell_type": "code",
   "execution_count": 2,
   "id": "60beb723-827a-4c9a-a497-abd072118b15",
   "metadata": {},
   "outputs": [],
   "source": [
    "import numpy as np\n",
    "import pandas as pd"
   ]
  },
  {
   "cell_type": "code",
   "execution_count": 3,
   "id": "8ef1f55a-d3e7-4606-bffa-4c12364c564e",
   "metadata": {},
   "outputs": [],
   "source": [
    "vk = pd.read_csv('kohli_ipl.csv')"
   ]
  },
  {
   "cell_type": "code",
   "execution_count": 4,
   "id": "5d428caf-4153-4a7a-9623-fef3037236ec",
   "metadata": {},
   "outputs": [],
   "source": [
    "subs = pd.read_csv('subs.csv')"
   ]
  },
  {
   "cell_type": "code",
   "execution_count": 5,
   "id": "ae06a156-f921-4b15-9ee2-843777883e52",
   "metadata": {},
   "outputs": [],
   "source": [
    "movies = pd.read_csv('bollywood.csv')"
   ]
  },
  {
   "cell_type": "code",
   "execution_count": 12,
   "id": "79e2d98b-97ee-4735-a15c-891332531ee1",
   "metadata": {},
   "outputs": [],
   "source": [
    "import sys"
   ]
  },
  {
   "cell_type": "code",
   "execution_count": 13,
   "id": "b4481dab-20a8-4a35-bcf4-9ede6f9fa70e",
   "metadata": {},
   "outputs": [
    {
     "data": {
      "text/plain": [
       "3604"
      ]
     },
     "execution_count": 13,
     "metadata": {},
     "output_type": "execute_result"
    }
   ],
   "source": [
    "sys.getsizeof(vk)"
   ]
  },
  {
   "cell_type": "code",
   "execution_count": 14,
   "id": "d99d2d9d-2a22-4504-a05a-12d04d1d3719",
   "metadata": {},
   "outputs": [
    {
     "data": {
      "text/plain": [
       "1454"
      ]
     },
     "execution_count": 14,
     "metadata": {},
     "output_type": "execute_result"
    }
   ],
   "source": [
    "sys.getsizeof(vk.astype('Int16'))"
   ]
  },
  {
   "cell_type": "code",
   "execution_count": 19,
   "id": "83b1380e-2e69-4e9a-af4d-93d465a17feb",
   "metadata": {},
   "outputs": [
    {
     "data": {
      "text/plain": [
       "0      False\n",
       "1      False\n",
       "2      False\n",
       "3      False\n",
       "4      False\n",
       "       ...  \n",
       "210    False\n",
       "211    False\n",
       "212     True\n",
       "213    False\n",
       "214    False\n",
       "Name: runs, Length: 215, dtype: bool"
      ]
     },
     "execution_count": 19,
     "metadata": {},
     "output_type": "execute_result"
    }
   ],
   "source": [
    "# In how many matches vk scored 50<runs<100\n",
    "vk['runs'].between(51,99) "
   ]
  },
  {
   "cell_type": "code",
   "execution_count": 21,
   "id": "cd93ba13-f37c-4bd0-9d15-76ad521a943d",
   "metadata": {},
   "outputs": [
    {
     "data": {
      "text/plain": [
       "86"
      ]
     },
     "execution_count": 21,
     "metadata": {},
     "output_type": "execute_result"
    }
   ],
   "source": [
    "vk[vk['runs'].between(51,99)].size"
   ]
  },
  {
   "cell_type": "code",
   "execution_count": null,
   "id": "70ea6852-8e77-4240-9aff-7b2d06472289",
   "metadata": {},
   "outputs": [],
   "source": []
  }
 ],
 "metadata": {
  "kernelspec": {
   "display_name": "Python 3 (ipykernel)",
   "language": "python",
   "name": "python3"
  },
  "language_info": {
   "codemirror_mode": {
    "name": "ipython",
    "version": 3
   },
   "file_extension": ".py",
   "mimetype": "text/x-python",
   "name": "python",
   "nbconvert_exporter": "python",
   "pygments_lexer": "ipython3",
   "version": "3.12.7"
  }
 },
 "nbformat": 4,
 "nbformat_minor": 5
}
