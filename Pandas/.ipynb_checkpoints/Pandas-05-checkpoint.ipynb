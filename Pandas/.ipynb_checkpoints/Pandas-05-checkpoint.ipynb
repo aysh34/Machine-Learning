{
 "cells": [
  {
   "cell_type": "markdown",
   "id": "df2f0a28-a959-432b-923b-253ec5d38f35",
   "metadata": {},
   "source": [
    "# Series important methods\n",
    "- astype\n",
    "- between\n",
    "- clip\n",
    "- drop_duplicates\n",
    "- isnull\n",
    "- dropna\n",
    "- fillna\n",
    "- isin\n",
    "- apply\n",
    "- copy  "
   ]
  },
  {
   "cell_type": "code",
   "execution_count": 1,
   "id": "60beb723-827a-4c9a-a497-abd072118b15",
   "metadata": {},
   "outputs": [],
   "source": [
    "import numpy as np\n",
    "import pandas as pd"
   ]
  },
  {
   "cell_type": "code",
   "execution_count": 2,
   "id": "8ef1f55a-d3e7-4606-bffa-4c12364c564e",
   "metadata": {},
   "outputs": [],
   "source": [
    "vk = pd.read_csv('kohli_ipl.csv',index_col='match_no').squeeze()"
   ]
  },
  {
   "cell_type": "code",
   "execution_count": 3,
   "id": "5d428caf-4153-4a7a-9623-fef3037236ec",
   "metadata": {},
   "outputs": [],
   "source": [
    "subs = pd.read_csv('subs.csv').squeeze()"
   ]
  },
  {
   "cell_type": "code",
   "execution_count": 4,
   "id": "ae06a156-f921-4b15-9ee2-843777883e52",
   "metadata": {},
   "outputs": [],
   "source": [
    "movies = pd.read_csv('bollywood.csv',index_col='movie').squeeze()"
   ]
  },
  {
   "cell_type": "code",
   "execution_count": 5,
   "id": "9bf3fc76-2ae6-4a12-956b-829f51976b5e",
   "metadata": {},
   "outputs": [
    {
     "data": {
      "text/plain": [
       "pandas.core.series.Series"
      ]
     },
     "execution_count": 5,
     "metadata": {},
     "output_type": "execute_result"
    }
   ],
   "source": [
    "type(vk)"
   ]
  },
  {
   "cell_type": "code",
   "execution_count": 6,
   "id": "79e2d98b-97ee-4735-a15c-891332531ee1",
   "metadata": {},
   "outputs": [],
   "source": [
    "import sys"
   ]
  },
  {
   "cell_type": "code",
   "execution_count": 7,
   "id": "b4481dab-20a8-4a35-bcf4-9ede6f9fa70e",
   "metadata": {},
   "outputs": [
    {
     "data": {
      "text/plain": [
       "3472"
      ]
     },
     "execution_count": 7,
     "metadata": {},
     "output_type": "execute_result"
    }
   ],
   "source": [
    "sys.getsizeof(vk)"
   ]
  },
  {
   "cell_type": "code",
   "execution_count": 8,
   "id": "d99d2d9d-2a22-4504-a05a-12d04d1d3719",
   "metadata": {},
   "outputs": [
    {
     "data": {
      "text/plain": [
       "2397"
      ]
     },
     "execution_count": 8,
     "metadata": {},
     "output_type": "execute_result"
    }
   ],
   "source": [
    "sys.getsizeof(vk.astype('Int16'))"
   ]
  },
  {
   "cell_type": "code",
   "execution_count": 9,
   "id": "83b1380e-2e69-4e9a-af4d-93d465a17feb",
   "metadata": {},
   "outputs": [
    {
     "data": {
      "text/plain": [
       "match_no\n",
       "1      False\n",
       "2      False\n",
       "3      False\n",
       "4      False\n",
       "5      False\n",
       "       ...  \n",
       "211    False\n",
       "212    False\n",
       "213     True\n",
       "214    False\n",
       "215    False\n",
       "Name: runs, Length: 215, dtype: bool"
      ]
     },
     "execution_count": 9,
     "metadata": {},
     "output_type": "execute_result"
    }
   ],
   "source": [
    "# In how many matches vk scored 50<runs<100\n",
    "vk.between(51,99)  # (both parameters are included) return a bollean series"
   ]
  },
  {
   "cell_type": "code",
   "execution_count": 10,
   "id": "cd93ba13-f37c-4bd0-9d15-76ad521a943d",
   "metadata": {},
   "outputs": [
    {
     "data": {
      "text/plain": [
       "43"
      ]
     },
     "execution_count": 10,
     "metadata": {},
     "output_type": "execute_result"
    }
   ],
   "source": [
    "vk[vk.between(51,99)].size"
   ]
  },
  {
   "cell_type": "code",
   "execution_count": 11,
   "id": "70ea6852-8e77-4240-9aff-7b2d06472289",
   "metadata": {},
   "outputs": [
    {
     "data": {
      "text/plain": [
       "0      100\n",
       "1      100\n",
       "2      100\n",
       "3      100\n",
       "4      100\n",
       "      ... \n",
       "360    200\n",
       "361    200\n",
       "362    155\n",
       "363    144\n",
       "364    172\n",
       "Name: Subscribers gained, Length: 365, dtype: int64"
      ]
     },
     "execution_count": 11,
     "metadata": {},
     "output_type": "execute_result"
    }
   ],
   "source": [
    "subs.clip(100,200) # clip within range: will make all values(smaller than 100) to 100 and values(greater than 200) to 200"
   ]
  },
  {
   "cell_type": "code",
   "execution_count": 12,
   "id": "201e88cb-9796-4d70-9c7f-86967dcece4d",
   "metadata": {},
   "outputs": [
    {
     "data": {
      "text/plain": [
       "movie\n",
       "Uri: The Surgical Strike                   Vicky Kaushal\n",
       "Battalion 609                                Vicky Ahuja\n",
       "The Accidental Prime Minister (film)         Anupam Kher\n",
       "Why Cheat India                            Emraan Hashmi\n",
       "Evening Shadows                         Mona Ambegaonkar\n",
       "                                              ...       \n",
       "Hum Tumhare Hain Sanam                    Shah Rukh Khan\n",
       "Aankhen (2002 film)                     Amitabh Bachchan\n",
       "Saathiya (film)                             Vivek Oberoi\n",
       "Company (film)                                Ajay Devgn\n",
       "Awara Paagal Deewana                        Akshay Kumar\n",
       "Name: lead, Length: 1500, dtype: object"
      ]
     },
     "execution_count": 12,
     "metadata": {},
     "output_type": "execute_result"
    }
   ],
   "source": [
    "movies"
   ]
  },
  {
   "cell_type": "code",
   "execution_count": 13,
   "id": "3b95b8f8-1974-4ed3-addc-90b0622a83fe",
   "metadata": {},
   "outputs": [
    {
     "data": {
      "text/plain": [
       "movie\n",
       "Uri: The Surgical Strike                   Vicky Kaushal\n",
       "Battalion 609                                Vicky Ahuja\n",
       "The Accidental Prime Minister (film)         Anupam Kher\n",
       "Why Cheat India                            Emraan Hashmi\n",
       "Evening Shadows                         Mona Ambegaonkar\n",
       "                                              ...       \n",
       "Sssshhh...                              Tanishaa Mukerji\n",
       "Rules: Pyaar Ka Superhit Formula                  Tanuja\n",
       "Right Here Right Now (film)                        Ankit\n",
       "Talaash: The Hunt Begins...                Rakhee Gulzar\n",
       "The Pink Mirror                          Edwin Fernandes\n",
       "Name: lead, Length: 566, dtype: object"
      ]
     },
     "execution_count": 13,
     "metadata": {},
     "output_type": "execute_result"
    }
   ],
   "source": [
    "movies.drop_duplicates()"
   ]
  },
  {
   "cell_type": "code",
   "execution_count": 14,
   "id": "55d051e3-952b-4588-8093-6fe7bad81064",
   "metadata": {},
   "outputs": [
    {
     "data": {
      "text/plain": [
       "0    1\n",
       "1    1\n",
       "2    2\n",
       "3    3\n",
       "4    3\n",
       "5    4\n",
       "6    4\n",
       "dtype: int64"
      ]
     },
     "execution_count": 14,
     "metadata": {},
     "output_type": "execute_result"
    }
   ],
   "source": [
    "temp = pd.Series([1,1,2,3,3,4,4])\n",
    "temp"
   ]
  },
  {
   "cell_type": "code",
   "execution_count": 15,
   "id": "744d7567-b2fe-4f90-adb1-f01fc9354ed2",
   "metadata": {},
   "outputs": [
    {
     "data": {
      "text/plain": [
       "1    1\n",
       "2    2\n",
       "4    3\n",
       "6    4\n",
       "dtype: int64"
      ]
     },
     "execution_count": 15,
     "metadata": {},
     "output_type": "execute_result"
    }
   ],
   "source": [
    "temp.drop_duplicates(keep = 'last') # by default it keeps first occurrence "
   ]
  },
  {
   "cell_type": "code",
   "execution_count": 16,
   "id": "80c0164e-e382-4154-8d01-bc160903c07b",
   "metadata": {},
   "outputs": [
    {
     "data": {
      "text/plain": [
       "0    False\n",
       "1     True\n",
       "2    False\n",
       "3    False\n",
       "4     True\n",
       "5    False\n",
       "6     True\n",
       "dtype: bool"
      ]
     },
     "execution_count": 16,
     "metadata": {},
     "output_type": "execute_result"
    }
   ],
   "source": [
    "temp.duplicated() # tell whether a value is duplicated or not"
   ]
  },
  {
   "cell_type": "code",
   "execution_count": 17,
   "id": "8aae6078-92be-4d63-b5ae-59c93d5e0964",
   "metadata": {},
   "outputs": [
    {
     "data": {
      "text/plain": [
       "3"
      ]
     },
     "execution_count": 17,
     "metadata": {},
     "output_type": "execute_result"
    }
   ],
   "source": [
    "temp.duplicated().sum()"
   ]
  },
  {
   "cell_type": "code",
   "execution_count": 18,
   "id": "055fc555-e352-4257-b979-660b1566b386",
   "metadata": {},
   "outputs": [
    {
     "data": {
      "text/plain": [
       "0    NaN\n",
       "1    1.0\n",
       "2    2.0\n",
       "3    3.0\n",
       "4    NaN\n",
       "5    NaN\n",
       "dtype: float64"
      ]
     },
     "execution_count": 18,
     "metadata": {},
     "output_type": "execute_result"
    }
   ],
   "source": [
    "temp = pd.Series([np.nan,1,2,3,np.nan,np.nan])\n",
    "temp"
   ]
  },
  {
   "cell_type": "code",
   "execution_count": 19,
   "id": "91f05429-5e2d-43a2-ba83-d10bb2d1763e",
   "metadata": {},
   "outputs": [
    {
     "data": {
      "text/plain": [
       "6"
      ]
     },
     "execution_count": 19,
     "metadata": {},
     "output_type": "execute_result"
    }
   ],
   "source": [
    "temp.size"
   ]
  },
  {
   "cell_type": "code",
   "execution_count": 20,
   "id": "138775cf-969a-4c48-8f08-3fb43724bc8b",
   "metadata": {},
   "outputs": [
    {
     "data": {
      "text/plain": [
       "3"
      ]
     },
     "execution_count": 20,
     "metadata": {},
     "output_type": "execute_result"
    }
   ],
   "source": [
    "temp.count() # count only non-missing values"
   ]
  },
  {
   "cell_type": "code",
   "execution_count": 21,
   "id": "89f21b75-d1a3-48b8-970a-e7014b8d8e1c",
   "metadata": {},
   "outputs": [
    {
     "data": {
      "text/plain": [
       "0     True\n",
       "1    False\n",
       "2    False\n",
       "3    False\n",
       "4     True\n",
       "5     True\n",
       "dtype: bool"
      ]
     },
     "execution_count": 21,
     "metadata": {},
     "output_type": "execute_result"
    }
   ],
   "source": [
    "temp.isnull()"
   ]
  },
  {
   "cell_type": "code",
   "execution_count": 22,
   "id": "93c01af4-2855-4bb1-a087-05c0662ca2ff",
   "metadata": {},
   "outputs": [
    {
     "data": {
      "text/plain": [
       "3"
      ]
     },
     "execution_count": 22,
     "metadata": {},
     "output_type": "execute_result"
    }
   ],
   "source": [
    "temp.isnull().sum() # 3 missing values"
   ]
  },
  {
   "cell_type": "code",
   "execution_count": 23,
   "id": "b326e789-3945-41a2-b065-46448567ca3a",
   "metadata": {},
   "outputs": [
    {
     "data": {
      "text/plain": [
       "0"
      ]
     },
     "execution_count": 23,
     "metadata": {},
     "output_type": "execute_result"
    }
   ],
   "source": [
    "vk.isnull().sum()"
   ]
  },
  {
   "cell_type": "code",
   "execution_count": 24,
   "id": "ecfb3c51-6d95-4a93-a147-5e37bed38ce1",
   "metadata": {},
   "outputs": [
    {
     "data": {
      "text/plain": [
       "1    1.0\n",
       "2    2.0\n",
       "3    3.0\n",
       "dtype: float64"
      ]
     },
     "execution_count": 24,
     "metadata": {},
     "output_type": "execute_result"
    }
   ],
   "source": [
    "temp.dropna()"
   ]
  },
  {
   "cell_type": "code",
   "execution_count": 25,
   "id": "7d2134e3-1281-4538-be97-dec80df783f1",
   "metadata": {},
   "outputs": [
    {
     "data": {
      "text/plain": [
       "0    77.0\n",
       "1     1.0\n",
       "2     2.0\n",
       "3     3.0\n",
       "4    77.0\n",
       "5    77.0\n",
       "dtype: float64"
      ]
     },
     "execution_count": 25,
     "metadata": {},
     "output_type": "execute_result"
    }
   ],
   "source": [
    "temp.fillna(77)"
   ]
  },
  {
   "cell_type": "code",
   "execution_count": 26,
   "id": "0934f6d3-f8b3-4de2-ab24-a5c3710aef95",
   "metadata": {},
   "outputs": [
    {
     "data": {
      "text/plain": [
       "0    2.0\n",
       "1    1.0\n",
       "2    2.0\n",
       "3    3.0\n",
       "4    2.0\n",
       "5    2.0\n",
       "dtype: float64"
      ]
     },
     "execution_count": 26,
     "metadata": {},
     "output_type": "execute_result"
    }
   ],
   "source": [
    "temp.fillna(temp.mean())"
   ]
  },
  {
   "cell_type": "code",
   "execution_count": 27,
   "id": "52e4379d-0b83-42e1-9399-6e6a2c388fc4",
   "metadata": {},
   "outputs": [
    {
     "data": {
      "text/plain": [
       "match_no\n",
       "82     99\n",
       "137    55\n",
       "Name: runs, dtype: int64"
      ]
     },
     "execution_count": 27,
     "metadata": {},
     "output_type": "execute_result"
    }
   ],
   "source": [
    "vk[(vk == 55) | (vk == 99)]"
   ]
  },
  {
   "cell_type": "code",
   "execution_count": 28,
   "id": "3d4f1eb7-f99a-449a-9dcd-775d74e05ceb",
   "metadata": {},
   "outputs": [
    {
     "data": {
      "text/plain": [
       "match_no\n",
       "8       0\n",
       "82     99\n",
       "87      0\n",
       "91      0\n",
       "93      0\n",
       "130     0\n",
       "135     0\n",
       "137    55\n",
       "206     0\n",
       "207     0\n",
       "211     0\n",
       "Name: runs, dtype: int64"
      ]
     },
     "execution_count": 28,
     "metadata": {},
     "output_type": "execute_result"
    }
   ],
   "source": [
    "vk[vk.isin([55,99,0])]"
   ]
  },
  {
   "cell_type": "code",
   "execution_count": 29,
   "id": "26aa9658-4348-46f1-8a9b-7c2990d57128",
   "metadata": {},
   "outputs": [
    {
     "data": {
      "text/plain": [
       "movie\n",
       "Uri: The Surgical Strike                   Vicky Kaushal\n",
       "Battalion 609                                Vicky Ahuja\n",
       "The Accidental Prime Minister (film)         Anupam Kher\n",
       "Why Cheat India                            Emraan Hashmi\n",
       "Evening Shadows                         Mona Ambegaonkar\n",
       "                                              ...       \n",
       "Hum Tumhare Hain Sanam                    Shah Rukh Khan\n",
       "Aankhen (2002 film)                     Amitabh Bachchan\n",
       "Saathiya (film)                             Vivek Oberoi\n",
       "Company (film)                                Ajay Devgn\n",
       "Awara Paagal Deewana                        Akshay Kumar\n",
       "Name: lead, Length: 1500, dtype: object"
      ]
     },
     "execution_count": 29,
     "metadata": {},
     "output_type": "execute_result"
    }
   ],
   "source": [
    "# apply helps to apply the custom logic on your data\n",
    "movies"
   ]
  },
  {
   "cell_type": "code",
   "execution_count": 30,
   "id": "ba3c5dd1-0365-46b1-ad0f-c4869b4e7a16",
   "metadata": {},
   "outputs": [
    {
     "data": {
      "text/plain": [
       "movie\n",
       "Uri: The Surgical Strike                  Vicky\n",
       "Battalion 609                             Vicky\n",
       "The Accidental Prime Minister (film)     Anupam\n",
       "Why Cheat India                          Emraan\n",
       "Evening Shadows                            Mona\n",
       "                                         ...   \n",
       "Hum Tumhare Hain Sanam                     Shah\n",
       "Aankhen (2002 film)                     Amitabh\n",
       "Saathiya (film)                           Vivek\n",
       "Company (film)                             Ajay\n",
       "Awara Paagal Deewana                     Akshay\n",
       "Name: lead, Length: 1500, dtype: object"
      ]
     },
     "execution_count": 30,
     "metadata": {},
     "output_type": "execute_result"
    }
   ],
   "source": [
    "movies.apply(lambda actor:actor.split()[0])"
   ]
  },
  {
   "cell_type": "code",
   "execution_count": 31,
   "id": "78970f8a-ab24-4955-b8c1-6495c1bb7ea1",
   "metadata": {},
   "outputs": [
    {
     "data": {
      "text/plain": [
       "movie\n",
       "Uri: The Surgical Strike                  VICKY\n",
       "Battalion 609                             VICKY\n",
       "The Accidental Prime Minister (film)     ANUPAM\n",
       "Why Cheat India                          EMRAAN\n",
       "Evening Shadows                            MONA\n",
       "                                         ...   \n",
       "Hum Tumhare Hain Sanam                     SHAH\n",
       "Aankhen (2002 film)                     AMITABH\n",
       "Saathiya (film)                           VIVEK\n",
       "Company (film)                             AJAY\n",
       "Awara Paagal Deewana                     AKSHAY\n",
       "Name: lead, Length: 1500, dtype: object"
      ]
     },
     "execution_count": 31,
     "metadata": {},
     "output_type": "execute_result"
    }
   ],
   "source": [
    "movies.apply(lambda actor:actor.split()[0].upper())"
   ]
  },
  {
   "cell_type": "code",
   "execution_count": 32,
   "id": "f2009854-49e1-471e-8c25-0f57838b1f55",
   "metadata": {},
   "outputs": [
    {
     "data": {
      "text/plain": [
       "match_no\n",
       "1       1\n",
       "2      23\n",
       "3      13\n",
       "4      12\n",
       "5       1\n",
       "       ..\n",
       "211     0\n",
       "212    20\n",
       "213    73\n",
       "214    25\n",
       "215     7\n",
       "Name: runs, Length: 215, dtype: int64"
      ]
     },
     "execution_count": 32,
     "metadata": {},
     "output_type": "execute_result"
    }
   ],
   "source": [
    "vk"
   ]
  },
  {
   "cell_type": "code",
   "execution_count": 33,
   "id": "2199f2aa-163d-427c-b09b-9518aaf5a5f6",
   "metadata": {},
   "outputs": [
    {
     "data": {
      "text/plain": [
       "match_no\n",
       "1        1\n",
       "2       23\n",
       "3       13\n",
       "4       12\n",
       "5        1\n",
       "      ... \n",
       "211    OUT\n",
       "212     20\n",
       "213     73\n",
       "214     25\n",
       "215      7\n",
       "Name: runs, Length: 215, dtype: object"
      ]
     },
     "execution_count": 33,
     "metadata": {},
     "output_type": "execute_result"
    }
   ],
   "source": [
    "vk.apply(lambda runs:'OUT' if runs==0 else runs)"
   ]
  },
  {
   "cell_type": "code",
   "execution_count": 34,
   "id": "6e312b66-e819-4e84-ba05-57a890750607",
   "metadata": {},
   "outputs": [
    {
     "data": {
      "text/plain": [
       "0       Bad\n",
       "1       Bad\n",
       "2       Bad\n",
       "3       Bad\n",
       "4       Bad\n",
       "       ... \n",
       "360    Good\n",
       "361    Good\n",
       "362    Good\n",
       "363    Good\n",
       "364    Good\n",
       "Name: Subscribers gained, Length: 365, dtype: object"
      ]
     },
     "execution_count": 34,
     "metadata": {},
     "output_type": "execute_result"
    }
   ],
   "source": [
    "subs.apply(lambda x:'Good' if x > subs.mean() else 'Bad')"
   ]
  },
  {
   "cell_type": "code",
   "execution_count": 35,
   "id": "a0400164-a95a-4962-b571-087af57fe550",
   "metadata": {},
   "outputs": [],
   "source": [
    "# head/tail functions are basically preview of data, so any change you made will reflect on your original data."
   ]
  },
  {
   "cell_type": "code",
   "execution_count": 36,
   "id": "1444de39-ea6e-4767-b26d-a755d1a8cb8a",
   "metadata": {},
   "outputs": [
    {
     "data": {
      "text/plain": [
       "match_no\n",
       "1       1\n",
       "2      23\n",
       "3      13\n",
       "4      12\n",
       "5       1\n",
       "       ..\n",
       "211     0\n",
       "212    20\n",
       "213    73\n",
       "214    25\n",
       "215     7\n",
       "Name: runs, Length: 215, dtype: int64"
      ]
     },
     "execution_count": 36,
     "metadata": {},
     "output_type": "execute_result"
    }
   ],
   "source": [
    "vk"
   ]
  },
  {
   "cell_type": "code",
   "execution_count": 37,
   "id": "bd01381f-2961-4c8f-81d6-4b5db828bad2",
   "metadata": {},
   "outputs": [
    {
     "data": {
      "text/plain": [
       "match_no\n",
       "1     1\n",
       "2    23\n",
       "3    13\n",
       "4    12\n",
       "5     1\n",
       "Name: runs, dtype: int64"
      ]
     },
     "execution_count": 37,
     "metadata": {},
     "output_type": "execute_result"
    }
   ],
   "source": [
    "n = vk.head()\n",
    "n"
   ]
  },
  {
   "cell_type": "code",
   "execution_count": 38,
   "id": "8b99aa1e-951e-4044-9693-c1cb5a328bc0",
   "metadata": {},
   "outputs": [],
   "source": [
    "n[1] = 1"
   ]
  },
  {
   "cell_type": "code",
   "execution_count": 39,
   "id": "403f114f-a37d-4651-9483-da3aeaec921f",
   "metadata": {},
   "outputs": [
    {
     "data": {
      "text/plain": [
       "match_no\n",
       "1       1\n",
       "2      23\n",
       "3      13\n",
       "4      12\n",
       "5       1\n",
       "       ..\n",
       "211     0\n",
       "212    20\n",
       "213    73\n",
       "214    25\n",
       "215     7\n",
       "Name: runs, Length: 215, dtype: int64"
      ]
     },
     "execution_count": 39,
     "metadata": {},
     "output_type": "execute_result"
    }
   ],
   "source": [
    "vk"
   ]
  },
  {
   "cell_type": "code",
   "execution_count": 40,
   "id": "10fb0eaf-3bf4-45b1-934f-8207562240f6",
   "metadata": {},
   "outputs": [],
   "source": [
    "# To avoid this we can make a copy"
   ]
  },
  {
   "cell_type": "code",
   "execution_count": 41,
   "id": "f4abc6c9-f68e-4b0c-907f-ec12f12cd9f1",
   "metadata": {},
   "outputs": [],
   "source": [
    "n = vk.head().copy()"
   ]
  },
  {
   "cell_type": "code",
   "execution_count": 42,
   "id": "b99dcc2f-85f9-4b21-b27a-804a137c07eb",
   "metadata": {},
   "outputs": [],
   "source": [
    "n[1] = 2000"
   ]
  },
  {
   "cell_type": "code",
   "execution_count": 43,
   "id": "9c5dc8dd-3b23-46a8-b866-ed3631da5a58",
   "metadata": {},
   "outputs": [
    {
     "data": {
      "text/plain": [
       "match_no\n",
       "1    2000\n",
       "2      23\n",
       "3      13\n",
       "4      12\n",
       "5       1\n",
       "Name: runs, dtype: int64"
      ]
     },
     "execution_count": 43,
     "metadata": {},
     "output_type": "execute_result"
    }
   ],
   "source": [
    "n"
   ]
  },
  {
   "cell_type": "code",
   "execution_count": 44,
   "id": "0f11c9a0-ef29-4b5a-9edc-8804dd5a7445",
   "metadata": {},
   "outputs": [
    {
     "data": {
      "text/plain": [
       "match_no\n",
       "1       1\n",
       "2      23\n",
       "3      13\n",
       "4      12\n",
       "5       1\n",
       "       ..\n",
       "211     0\n",
       "212    20\n",
       "213    73\n",
       "214    25\n",
       "215     7\n",
       "Name: runs, Length: 215, dtype: int64"
      ]
     },
     "execution_count": 44,
     "metadata": {},
     "output_type": "execute_result"
    }
   ],
   "source": [
    "vk"
   ]
  },
  {
   "cell_type": "code",
   "execution_count": null,
   "id": "28b18ae7-07c5-4127-addc-f3f77aeec70d",
   "metadata": {},
   "outputs": [],
   "source": []
  }
 ],
 "metadata": {
  "kernelspec": {
   "display_name": "Python 3 (ipykernel)",
   "language": "python",
   "name": "python3"
  },
  "language_info": {
   "codemirror_mode": {
    "name": "ipython",
    "version": 3
   },
   "file_extension": ".py",
   "mimetype": "text/x-python",
   "name": "python",
   "nbconvert_exporter": "python",
   "pygments_lexer": "ipython3",
   "version": "3.12.7"
  }
 },
 "nbformat": 4,
 "nbformat_minor": 5
}
