{
 "cells": [
  {
   "cell_type": "markdown",
   "id": "cf3eb45b-4345-4930-a9e4-aa01f353294a",
   "metadata": {},
   "source": [
    "# What is pandas?\n",
    "Pandas is a popular Python library used for *data manipulation and analysis*. It provides easy-to-use tools for working with structured data like tables (similar to Excel or SQL tables). Pandas is built on top of NumPy."
   ]
  },
  {
   "cell_type": "markdown",
   "id": "dbf75ba9-5792-4cd0-b413-8d5fbc0a44cb",
   "metadata": {},
   "source": [
    "# Two primary data structures in pandas\n",
    "# 1) Series\n",
    "- A Series is a one-dimensional array, similar to a list or a column in a spreadsheet, but with labels (called an index).\n",
    "- It contains data of the same type (e.g., all integers, all floats, etc.).\n",
    "- Each value has a corresponding label (index) for easy access.\n",
    "  \n",
    "# 2) DataFrame\n",
    "- A DataFrame is a two-dimensional, table-like structure. Think of it as a spreadsheet or an SQL table.\n",
    "- It has rows and columns.\n",
    "- Columns can have different data types (e.g., numbers, strings, dates)."
   ]
  },
  {
   "cell_type": "code",
   "execution_count": 1,
   "id": "2ca6c73a-2b97-4f2f-bd11-455b87337631",
   "metadata": {},
   "outputs": [],
   "source": [
    "import numpy as np\n",
    "import pandas as pd"
   ]
  },
  {
   "cell_type": "markdown",
   "id": "6efb9c54-55d1-4073-93a8-1971855bd477",
   "metadata": {},
   "source": [
    "# How to create a series in pandas"
   ]
  },
  {
   "cell_type": "code",
   "execution_count": 2,
   "id": "9867e684-0929-4797-9a6d-03f752ab5056",
   "metadata": {},
   "outputs": [
    {
     "data": {
      "text/plain": [
       "0     Ayesha\n",
       "1       Iqra\n",
       "2       Sana\n",
       "3    Taimoor\n",
       "dtype: object"
      ]
     },
     "execution_count": 2,
     "metadata": {},
     "output_type": "execute_result"
    }
   ],
   "source": [
    "names = ['Ayesha','Iqra','Sana','Taimoor']\n",
    "obj = pd.Series(names) # Series is a class and we are creating an object of it by passing list in a constructor\n",
    "obj"
   ]
  },
  {
   "cell_type": "code",
   "execution_count": 3,
   "id": "8c51cd21-e6d9-438a-b056-c6a8e68aaac3",
   "metadata": {},
   "outputs": [
    {
     "data": {
      "text/plain": [
       "0     Ayesha\n",
       "1       Iqra\n",
       "2       Sana\n",
       "3    Taimoor\n",
       "dtype: object"
      ]
     },
     "execution_count": 3,
     "metadata": {},
     "output_type": "execute_result"
    }
   ],
   "source": [
    "pd.Series(['Ayesha','Iqra','Sana','Taimoor'])"
   ]
  },
  {
   "cell_type": "code",
   "execution_count": 4,
   "id": "435f9ea0-445c-465e-993f-8df1a4a12fb6",
   "metadata": {},
   "outputs": [
    {
     "data": {
      "text/plain": [
       "0      1\n",
       "1      2\n",
       "2     33\n",
       "3    444\n",
       "dtype: int64"
      ]
     },
     "execution_count": 4,
     "metadata": {},
     "output_type": "execute_result"
    }
   ],
   "source": [
    "pd.Series([1,2,33,444])"
   ]
  },
  {
   "cell_type": "markdown",
   "id": "71ca8360-e3c0-46a8-b76d-314e1916f1e5",
   "metadata": {},
   "source": [
    "# Custom index "
   ]
  },
  {
   "cell_type": "code",
   "execution_count": 5,
   "id": "81cf23e4-7091-41c0-acd5-fca49acd7a4a",
   "metadata": {},
   "outputs": [
    {
     "data": {
      "text/plain": [
       "Ayesha     20\n",
       "Iqra       24\n",
       "Sana       30\n",
       "Taimoor    29\n",
       "dtype: int64"
      ]
     },
     "execution_count": 5,
     "metadata": {},
     "output_type": "execute_result"
    }
   ],
   "source": [
    "age = [20,24,30,29]\n",
    "pd.Series(age,index = names)"
   ]
  },
  {
   "cell_type": "markdown",
   "id": "0e129afe-06cf-4420-a51d-c7f57170f994",
   "metadata": {},
   "source": [
    "# Series from dict"
   ]
  },
  {
   "cell_type": "code",
   "execution_count": 6,
   "id": "db935a25-5be5-40fe-9bf2-dcc64fd012b8",
   "metadata": {},
   "outputs": [
    {
     "data": {
      "text/plain": [
       "Ayesha     20\n",
       "Iqra       24\n",
       "Sana       30\n",
       "Taimoor    29\n",
       "Name: Family details, dtype: int64"
      ]
     },
     "execution_count": 6,
     "metadata": {},
     "output_type": "execute_result"
    }
   ],
   "source": [
    "family = {\n",
    "    'Ayesha':20,\n",
    "    'Iqra':24,\n",
    "    'Sana':30,\n",
    "    'Taimoor':29\n",
    "}\n",
    "family_ser = pd.Series(family,name='Family details') # by default dtype is the data type of values (not dtype of index)\n",
    "family_ser"
   ]
  },
  {
   "cell_type": "markdown",
   "id": "cad5181f-4dfa-4256-a4f9-4e6022958e05",
   "metadata": {},
   "source": [
    "# Name your series"
   ]
  },
  {
   "cell_type": "code",
   "execution_count": 7,
   "id": "cd533f2e-b038-4b6f-8b86-ac24d3e85fc4",
   "metadata": {},
   "outputs": [
    {
     "data": {
      "text/plain": [
       "0     22\n",
       "1     34\n",
       "2    555\n",
       "3     88\n",
       "Name: Basic Info, dtype: int64"
      ]
     },
     "execution_count": 7,
     "metadata": {},
     "output_type": "execute_result"
    }
   ],
   "source": [
    "pd.Series([22,34,555,88],name='Basic Info')"
   ]
  },
  {
   "cell_type": "markdown",
   "id": "7b0f3aeb-f6ed-4839-bcda-e45909d30b10",
   "metadata": {},
   "source": [
    "# Series attributes\n",
    "- size\n",
    "- name\n",
    "- index\n",
    "- dtype\n",
    "- is_unique\n",
    "- values"
   ]
  },
  {
   "cell_type": "code",
   "execution_count": 8,
   "id": "40debdc3-3a62-4c53-bd81-20427f73c108",
   "metadata": {},
   "outputs": [
    {
     "data": {
      "text/plain": [
       "4"
      ]
     },
     "execution_count": 8,
     "metadata": {},
     "output_type": "execute_result"
    }
   ],
   "source": [
    "# size -> no of items/values in series\n",
    "obj.size"
   ]
  },
  {
   "cell_type": "code",
   "execution_count": 9,
   "id": "1bf61d50-957c-41dd-94bc-a5e2efcbd441",
   "metadata": {},
   "outputs": [
    {
     "data": {
      "text/plain": [
       "dtype('O')"
      ]
     },
     "execution_count": 9,
     "metadata": {},
     "output_type": "execute_result"
    }
   ],
   "source": [
    " # dtype\n",
    "obj.dtype # pandas treate strings as objects mostly."
   ]
  },
  {
   "cell_type": "code",
   "execution_count": 10,
   "id": "7be8f249-e8e5-4b3c-8652-57a318db0eb0",
   "metadata": {},
   "outputs": [
    {
     "data": {
      "text/plain": [
       "dtype('int64')"
      ]
     },
     "execution_count": 10,
     "metadata": {},
     "output_type": "execute_result"
    }
   ],
   "source": [
    "family_ser.dtype"
   ]
  },
  {
   "cell_type": "code",
   "execution_count": 11,
   "id": "78fc88d2-4e11-4c4b-828b-e83c21f61b39",
   "metadata": {},
   "outputs": [
    {
     "data": {
      "text/plain": [
       "'Family details'"
      ]
     },
     "execution_count": 11,
     "metadata": {},
     "output_type": "execute_result"
    }
   ],
   "source": [
    "# name\n",
    "family_ser.name"
   ]
  },
  {
   "cell_type": "code",
   "execution_count": 12,
   "id": "d29beaef-742d-4b0b-ab4e-9ad5d350e0dd",
   "metadata": {},
   "outputs": [
    {
     "data": {
      "text/plain": [
       "True"
      ]
     },
     "execution_count": 12,
     "metadata": {},
     "output_type": "execute_result"
    }
   ],
   "source": [
    "# is_unique\n",
    "family_ser.is_unique"
   ]
  },
  {
   "cell_type": "code",
   "execution_count": 13,
   "id": "ec2fd163-6829-4688-b84b-10b63fe1f141",
   "metadata": {},
   "outputs": [
    {
     "data": {
      "text/plain": [
       "False"
      ]
     },
     "execution_count": 13,
     "metadata": {},
     "output_type": "execute_result"
    }
   ],
   "source": [
    "pd.Series([1,3,3,4,5]).is_unique"
   ]
  },
  {
   "cell_type": "code",
   "execution_count": 14,
   "id": "8ab87bd8-5ac6-4dd6-9754-57eeed7b6923",
   "metadata": {},
   "outputs": [
    {
     "data": {
      "text/plain": [
       "Index(['Ayesha', 'Iqra', 'Sana', 'Taimoor'], dtype='object')"
      ]
     },
     "execution_count": 14,
     "metadata": {},
     "output_type": "execute_result"
    }
   ],
   "source": [
    "# index\n",
    "family_ser.index # we set custom index"
   ]
  },
  {
   "cell_type": "code",
   "execution_count": 15,
   "id": "3da6ca35-83ca-4fb1-a133-85c2cc845c0e",
   "metadata": {},
   "outputs": [
    {
     "data": {
      "text/plain": [
       "RangeIndex(start=0, stop=4, step=1)"
      ]
     },
     "execution_count": 15,
     "metadata": {},
     "output_type": "execute_result"
    }
   ],
   "source": [
    "obj.index # by default index "
   ]
  },
  {
   "cell_type": "code",
   "execution_count": 16,
   "id": "5843cdb8-ec91-4747-90f0-09df581456ba",
   "metadata": {},
   "outputs": [
    {
     "data": {
      "text/plain": [
       "array(['Ayesha', 'Iqra', 'Sana', 'Taimoor'], dtype=object)"
      ]
     },
     "execution_count": 16,
     "metadata": {},
     "output_type": "execute_result"
    }
   ],
   "source": [
    "# values\n",
    "obj.values"
   ]
  },
  {
   "cell_type": "code",
   "execution_count": 17,
   "id": "af932a05-f601-4ea9-bf0d-057d25c2b894",
   "metadata": {},
   "outputs": [
    {
     "data": {
      "text/plain": [
       "array([20, 24, 30, 29], dtype=int64)"
      ]
     },
     "execution_count": 17,
     "metadata": {},
     "output_type": "execute_result"
    }
   ],
   "source": [
    "family_ser.values"
   ]
  },
  {
   "cell_type": "code",
   "execution_count": 18,
   "id": "c208e0cb-3529-4107-985b-728587c98d19",
   "metadata": {},
   "outputs": [
    {
     "data": {
      "text/plain": [
       "pandas.core.series.Series"
      ]
     },
     "execution_count": 18,
     "metadata": {},
     "output_type": "execute_result"
    }
   ],
   "source": [
    "type(family_ser)"
   ]
  },
  {
   "cell_type": "code",
   "execution_count": null,
   "id": "882e9041-1055-4f23-96e4-28d609404537",
   "metadata": {},
   "outputs": [],
   "source": []
  }
 ],
 "metadata": {
  "kernelspec": {
   "display_name": "Python 3 (ipykernel)",
   "language": "python",
   "name": "python3"
  },
  "language_info": {
   "codemirror_mode": {
    "name": "ipython",
    "version": 3
   },
   "file_extension": ".py",
   "mimetype": "text/x-python",
   "name": "python",
   "nbconvert_exporter": "python",
   "pygments_lexer": "ipython3",
   "version": "3.12.7"
  }
 },
 "nbformat": 4,
 "nbformat_minor": 5
}
