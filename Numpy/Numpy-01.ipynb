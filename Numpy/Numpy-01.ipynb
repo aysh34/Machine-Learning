{
 "cells": [
  {
   "cell_type": "markdown",
   "id": "5cbfc311-cbb5-41f4-85b0-b9cf10d3fc4d",
   "metadata": {},
   "source": [
    "# What is NumPy?\n",
    "- NumPy (Numerical Python) is a Python library used for working with arrays.\n",
    "# Why Use NumPy if we already have lists in python?\n",
    "- In Python we have lists that serve the purpose of arrays, but they are slow to process.\n",
    "- NumPy aims to provide an array object that is up to 50x faster than traditional Python lists.\n",
    "- The array object in NumPy is called ndarray, it provides a lot of supporting functions that make working with ndarray very easy.\n",
    "# Why is NumPy Faster Than Lists?\n",
    "- NumPy arrays are stored at one continuous place in memory unlike lists, so processes can access and manipulate them very efficiently."
   ]
  },
  {
   "cell_type": "markdown",
   "id": "44a5272e-aa87-4884-b17e-968d9f149b9f",
   "metadata": {},
   "source": [
    "# NumPy Creating Arrays\n",
    "There are some functions through which you can create a ndarray like.\n",
    "- array()\n",
    "- arange()\n",
    "- ones()\n",
    "- zeros()\n",
    "- random()\n",
    "- linspace()\n",
    "- identity()"
   ]
  },
  {
   "cell_type": "markdown",
   "id": "383acca2-dce5-4f6f-87d4-659c14f8a550",
   "metadata": {},
   "source": [
    "- 0-D array or scalar e.g 42\n",
    "- 1-D array or vector [1, 2, 3, 4, 5]\n",
    "- 2-D array [[1, 2, 3, 4, 5],[1, 2, 3, 4, 5]]\n",
    "- 3-D array [[[1, 2, 3], [4, 5, 6]], [[1, 2, 3], [4, 5, 6]]]"
   ]
  },
  {
   "cell_type": "code",
   "execution_count": 1,
   "id": "973d3e36-0007-47e5-8ebe-6afdd258f6cf",
   "metadata": {},
   "outputs": [
    {
     "name": "stdout",
     "output_type": "stream",
     "text": [
      "[1 2 3 4]\n",
      "[1. 2. 3. 4.]\n",
      "[[1 2 3 4]\n",
      " [5 6 7 8]]\n"
     ]
    }
   ],
   "source": [
    "import numpy as np\n",
    "# a = np.array((1,2,3,4))\n",
    "a = np.array([1,2,3,4]) # 1d\n",
    "b = np.array([1,2,3,4], dtype='float')\n",
    "c = np.array([[1,2,3,4],[5,6,7,8]]) # 2d\n",
    "print(a)\n",
    "print(b)\n",
    "print(c)"
   ]
  },
  {
   "cell_type": "code",
   "execution_count": 2,
   "id": "1154e529-0097-4c5a-a6f6-da8a1614920b",
   "metadata": {},
   "outputs": [
    {
     "name": "stdout",
     "output_type": "stream",
     "text": [
      "[ 5  6  7  8  9 10 11 12 13 14]\n",
      "[ 5  7  9 11 13]\n"
     ]
    }
   ],
   "source": [
    "a = np.arange(5,15) # (start,end-1)\n",
    "b =  np.arange(5,15,2) # (start,end-1,step-size)\n",
    "print(a)\n",
    "print(b)"
   ]
  },
  {
   "cell_type": "markdown",
   "id": "8cb1e246-0f33-48c6-8dea-fa7ebf12d2e4",
   "metadata": {},
   "source": [
    "# shape of an array \n",
    "- It tells you how many elements are in each dimension.\n",
    "- The shape is represented as a tuple of integers.\n",
    "- Each integer in the tuple represents the number of elements in that dimension.\n",
    "- Number of integers in the shape tuple corresponds to the number of dimensions (also called the \"rank\") of the array."
   ]
  },
  {
   "cell_type": "code",
   "execution_count": 3,
   "id": "655f263d-cbef-454d-88ad-6f61f146547f",
   "metadata": {},
   "outputs": [
    {
     "name": "stdout",
     "output_type": "stream",
     "text": [
      "(3,)\n",
      "(2, 4)\n",
      "(2, 2, 4)\n"
     ]
    }
   ],
   "source": [
    "b = np.array([1,2,3])\n",
    "c = np.array([[1,2,3,4],[5,6,7,8]]) # 2D array/matrix = 2 rows, 4 columns\n",
    "d = np.array([[[1,2,3,4],[5,6,7,8]], [[1,2,3,4],[5,6,7,8]]]) # 3D array i.e array of matrices\n",
    "print(b.shape)\n",
    "print(c.shape)\n",
    "print(d.shape) # 2 sets of 2*4 matrices\n"
   ]
  },
  {
   "cell_type": "markdown",
   "id": "88ee5d2d-9a7a-4e7b-9610-fc685f082c3a",
   "metadata": {},
   "source": [
    "# Reshaping arrays\n",
    "- Reshaping means changing the shape of an array.\n",
    "- By reshaping we can add or remove dimensions or change number of elements in each dimension."
   ]
  },
  {
   "cell_type": "code",
   "execution_count": 4,
   "id": "f9df2107-1a5a-4af6-857f-dfee5143e521",
   "metadata": {},
   "outputs": [
    {
     "name": "stdout",
     "output_type": "stream",
     "text": [
      "[2 3 4 5 6 7]\n",
      "[[2 3]\n",
      " [4 5]\n",
      " [6 7]]\n",
      "[[2 3 4]\n",
      " [5 6 7]]\n",
      "[[2]\n",
      " [3]\n",
      " [4]\n",
      " [5]\n",
      " [6]\n",
      " [7]]\n"
     ]
    }
   ],
   "source": [
    "x = np.arange(2,8)\n",
    "y = np.arange(2,8).reshape(3,2)\n",
    "z = np.arange(2,8).reshape(2,3)\n",
    "w = np.arange(2,8).reshape(6,1)\n",
    "w = np.arange(2,8).reshape(6,1)\n",
    "print(x)\n",
    "print(y)\n",
    "print(z)\n",
    "print(w)"
   ]
  },
  {
   "cell_type": "code",
   "execution_count": 5,
   "id": "43d41de8-67ef-484a-90e3-2d95fb1457e1",
   "metadata": {},
   "outputs": [
    {
     "data": {
      "text/plain": [
       "array([[1., 1., 1.],\n",
       "       [1., 1., 1.],\n",
       "       [1., 1., 1.]])"
      ]
     },
     "execution_count": 5,
     "metadata": {},
     "output_type": "execute_result"
    }
   ],
   "source": [
    "np.ones((3,3)) # rows*columns --> 3*3"
   ]
  },
  {
   "cell_type": "code",
   "execution_count": 6,
   "id": "25baa57b-53c2-40b4-be14-fd87dbf1741b",
   "metadata": {},
   "outputs": [
    {
     "data": {
      "text/plain": [
       "array([[0., 0., 0.],\n",
       "       [0., 0., 0.],\n",
       "       [0., 0., 0.]])"
      ]
     },
     "execution_count": 6,
     "metadata": {},
     "output_type": "execute_result"
    }
   ],
   "source": [
    "np.zeros((3,3))"
   ]
  },
  {
   "cell_type": "code",
   "execution_count": 7,
   "id": "b926f936-17ec-4cda-9cec-81a3ac8765e8",
   "metadata": {},
   "outputs": [
    {
     "data": {
      "text/plain": [
       "array([[1., 0., 0.],\n",
       "       [0., 1., 0.],\n",
       "       [0., 0., 1.]])"
      ]
     },
     "execution_count": 7,
     "metadata": {},
     "output_type": "execute_result"
    }
   ],
   "source": [
    "np.identity(3) # identity matrix --> having all ones at diagonal and zeros at all other places"
   ]
  },
  {
   "cell_type": "code",
   "execution_count": 8,
   "id": "99cf5e78-a455-47ee-8825-c1604f7a85d5",
   "metadata": {},
   "outputs": [
    {
     "data": {
      "text/plain": [
       "array([[0., 0., 0.],\n",
       "       [0., 0., 0.],\n",
       "       [0., 0., 0.]])"
      ]
     },
     "execution_count": 8,
     "metadata": {},
     "output_type": "execute_result"
    }
   ],
   "source": [
    "np.zeros((3,3))"
   ]
  },
  {
   "cell_type": "code",
   "execution_count": 9,
   "id": "b99d89e4-7d01-4dfa-b679-857cc8378bcb",
   "metadata": {},
   "outputs": [
    {
     "data": {
      "text/plain": [
       "array([[0.19136029, 0.88437226, 0.93954881, 0.02223374],\n",
       "       [0.23435458, 0.36634072, 0.69211916, 0.19708911],\n",
       "       [0.03384231, 0.27584226, 0.67022668, 0.42673926]])"
      ]
     },
     "execution_count": 9,
     "metadata": {},
     "output_type": "execute_result"
    }
   ],
   "source": [
    "np.random.random((3,4)) # 3 rows , 4 columns"
   ]
  },
  {
   "cell_type": "code",
   "execution_count": 10,
   "id": "c391b080-b157-4c72-a137-4ab4bf4bf914",
   "metadata": {},
   "outputs": [
    {
     "name": "stdout",
     "output_type": "stream",
     "text": [
      "[ 1.    3.25  5.5   7.75 10.  ]\n",
      "[ 1  3  5  7 10]\n"
     ]
    }
   ],
   "source": [
    "a = np.linspace(1,10,5) # give me 5 numbers from 1 to 10 which are lineraly spaced.\n",
    "b = np.linspace(1,10,5, dtype = 'int')\n",
    "print(a)\n",
    "print(b)"
   ]
  },
  {
   "cell_type": "code",
   "execution_count": null,
   "id": "ccb88bec-fdab-49e8-98c9-27ab66978be0",
   "metadata": {},
   "outputs": [],
   "source": []
  }
 ],
 "metadata": {
  "kernelspec": {
   "display_name": "Python 3 (ipykernel)",
   "language": "python",
   "name": "python3"
  },
  "language_info": {
   "codemirror_mode": {
    "name": "ipython",
    "version": 3
   },
   "file_extension": ".py",
   "mimetype": "text/x-python",
   "name": "python",
   "nbconvert_exporter": "python",
   "pygments_lexer": "ipython3",
   "version": "3.12.7"
  }
 },
 "nbformat": 4,
 "nbformat_minor": 5
}
