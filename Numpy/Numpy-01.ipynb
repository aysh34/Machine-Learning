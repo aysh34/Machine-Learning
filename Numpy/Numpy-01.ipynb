{
 "cells": [
  {
   "cell_type": "markdown",
   "id": "5cbfc311-cbb5-41f4-85b0-b9cf10d3fc4d",
   "metadata": {},
   "source": [
    "# What is NumPy?\n",
    "- NumPy (Numerical Python) is a Python library used for working with arrays.\n",
    "# Why Use NumPy if we already have lists in python?\n",
    "- In Python we have lists that serve the purpose of arrays, but they are slow to process.\n",
    "- NumPy aims to provide an array object that is up to 50x faster than traditional Python lists.\n",
    "- The array object in NumPy is called ndarray, it provides a lot of supporting functions that make working with ndarray very easy.\n",
    "# Why is NumPy Faster Than Lists?\n",
    "- NumPy arrays are stored at one continuous place in memory unlike lists, so processes can access and manipulate them very efficiently."
   ]
  },
  {
   "cell_type": "markdown",
   "id": "44a5272e-aa87-4884-b17e-968d9f149b9f",
   "metadata": {},
   "source": [
    "# NumPy Creating Arrays\n",
    "There are some functions through which you can create a ndarray like.\n",
    "- array()\n",
    "- arange()\n",
    "- ones()\n",
    "- zeros()\n",
    "- random()\n",
    "- linspace()\n",
    "- identity()"
   ]
  },
  {
   "cell_type": "markdown",
   "id": "383acca2-dce5-4f6f-87d4-659c14f8a550",
   "metadata": {},
   "source": [
    "- 0-D arrays or scalar e.g 42\n",
    "- 1-D arrays [1, 2, 3, 4, 5]\n",
    "- 2-D arrays [[1, 2, 3, 4, 5],[1, 2, 3, 4, 5]]\n",
    "- 3-D arrays [[[1, 2, 3], [4, 5, 6]], [[1, 2, 3], [4, 5, 6]]]"
   ]
  },
  {
   "cell_type": "code",
   "execution_count": 13,
   "id": "973d3e36-0007-47e5-8ebe-6afdd258f6cf",
   "metadata": {},
   "outputs": [
    {
     "name": "stdout",
     "output_type": "stream",
     "text": [
      "[1 2 3 4]\n",
      "[1. 2. 3. 4.]\n",
      "[[1 2 3 4]\n",
      " [5 6 7 8]]\n"
     ]
    }
   ],
   "source": [
    "import numpy as np\n",
    "# a = np.array((1,2,3,4))\n",
    "a = np.array([1,2,3,4]) # 1d\n",
    "b = np.array([1,2,3,4], dtype='float')\n",
    "c = np.array([[1,2,3,4],[5,6,7,8]]) # 2d\n",
    "print(a)\n",
    "print(b)\n",
    "print(c)"
   ]
  },
  {
   "cell_type": "code",
   "execution_count": 15,
   "id": "1154e529-0097-4c5a-a6f6-da8a1614920b",
   "metadata": {},
   "outputs": [
    {
     "name": "stdout",
     "output_type": "stream",
     "text": [
      "[ 5  6  7  8  9 10 11 12 13 14]\n",
      "[ 5  7  9 11 13]\n"
     ]
    }
   ],
   "source": [
    "import numpy as np\n",
    "a = np.arange(5,15) # (start,end-1)\n",
    "b =  np.arange(5,15,2) # (start,end-1,step-size)\n",
    "print(a)\n",
    "print(b)"
   ]
  },
  {
   "cell_type": "code",
   "execution_count": null,
   "id": "655f263d-cbef-454d-88ad-6f61f146547f",
   "metadata": {},
   "outputs": [],
   "source": []
  }
 ],
 "metadata": {
  "kernelspec": {
   "display_name": "Python 3 (ipykernel)",
   "language": "python",
   "name": "python3"
  },
  "language_info": {
   "codemirror_mode": {
    "name": "ipython",
    "version": 3
   },
   "file_extension": ".py",
   "mimetype": "text/x-python",
   "name": "python",
   "nbconvert_exporter": "python",
   "pygments_lexer": "ipython3",
   "version": "3.12.7"
  }
 },
 "nbformat": 4,
 "nbformat_minor": 5
}
