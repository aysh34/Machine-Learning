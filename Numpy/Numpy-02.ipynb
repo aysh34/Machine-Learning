{
 "cells": [
  {
   "cell_type": "markdown",
   "id": "10d60236-2efd-4bd8-9522-3cf2f3ee9b78",
   "metadata": {},
   "source": [
    "# Numpy array attrributes\n",
    "- ndim\n",
    "- shape\n",
    "- size\n",
    "- itemsize\n",
    "- dtype"
   ]
  },
  {
   "cell_type": "code",
   "execution_count": 1,
   "id": "578fbadd-a060-43e9-830c-15bbcfc7cad3",
   "metadata": {},
   "outputs": [
    {
     "name": "stdout",
     "output_type": "stream",
     "text": [
      "1\n",
      "3\n"
     ]
    }
   ],
   "source": [
    "import numpy as np\n",
    "x = np.array([2,34,5,9])\n",
    "y = np.array([[[2,34,5],[4,6,7]],[[2,34,5],[4,6,7]]])\n",
    "print(x.ndim) # ndim means no of dimensions\n",
    "print(y.ndim)"
   ]
  },
  {
   "cell_type": "code",
   "execution_count": 2,
   "id": "70512468-5ba8-4b66-ae79-9f9e604e8e02",
   "metadata": {},
   "outputs": [
    {
     "name": "stdout",
     "output_type": "stream",
     "text": [
      "(4,)\n",
      "(2, 2, 3)\n"
     ]
    }
   ],
   "source": [
    "print(x.shape) # no of items in each dimensions\n",
    "print(y.shape) # (2,2,3) --> 2 sets of 2x3 matrices"
   ]
  },
  {
   "cell_type": "code",
   "execution_count": 3,
   "id": "5f02a9ad-0ebe-43bc-b5bd-ab0d96a76944",
   "metadata": {},
   "outputs": [
    {
     "name": "stdout",
     "output_type": "stream",
     "text": [
      "4\n",
      "12\n"
     ]
    }
   ],
   "source": [
    "print(x.size) # total no of elements in ndarray\n",
    "print(y.size)"
   ]
  },
  {
   "cell_type": "code",
   "execution_count": 4,
   "id": "9d837ec5-487d-454c-a582-3de5101763a2",
   "metadata": {},
   "outputs": [
    {
     "name": "stdout",
     "output_type": "stream",
     "text": [
      "4\n",
      "[1. 2. 3. 4.] 8\n"
     ]
    }
   ],
   "source": [
    "print(x.itemsize) # size of item in bytes (bydefault it's int32 = 4bytes)\n",
    "w = np.arange(1,5,dtype = np.float64)\n",
    "print(w, w.itemsize)"
   ]
  },
  {
   "cell_type": "code",
   "execution_count": 5,
   "id": "1358c09d-d829-45ba-a78e-4b60b69bba16",
   "metadata": {},
   "outputs": [
    {
     "name": "stdout",
     "output_type": "stream",
     "text": [
      "int32\n",
      "float64\n"
     ]
    }
   ],
   "source": [
    "print(x.dtype)\n",
    "print(w.dtype)"
   ]
  },
  {
   "cell_type": "markdown",
   "id": "e1b1a0f1-34b7-46d0-b53b-ce436b116210",
   "metadata": {},
   "source": [
    "# Changing datatypes\n",
    "- you can use astype function"
   ]
  },
  {
   "cell_type": "code",
   "execution_count": 6,
   "id": "4e6250d0-b3eb-44b7-bbcb-ebbdf6c09adf",
   "metadata": {},
   "outputs": [
    {
     "name": "stdout",
     "output_type": "stream",
     "text": [
      "float64\n",
      "int32\n"
     ]
    }
   ],
   "source": [
    "print(w.dtype)\n",
    "w = w.astype(np.int32)\n",
    "print(w.dtype)"
   ]
  },
  {
   "cell_type": "markdown",
   "id": "2cea5c0d-3208-4d45-9764-0a5b4b3e4cfc",
   "metadata": {},
   "source": [
    "# Array operations\n",
    "- scalar operations (one operand is array and other is a scalar/number)\n",
    "- vector opeartions (both the operand will be the numpy arrays)"
   ]
  },
  {
   "cell_type": "code",
   "execution_count": 7,
   "id": "4409fdba-1b38-4e19-b8a3-8125f3941555",
   "metadata": {},
   "outputs": [
    {
     "name": "stdout",
     "output_type": "stream",
     "text": [
      "[[1 2]\n",
      " [3 4]]\n",
      "[[ 5 10]\n",
      " [15 20]]\n",
      "[[False False]\n",
      " [False  True]]\n"
     ]
    }
   ],
   "source": [
    "# scalar operations (arithmetic and relational operations)\n",
    "a1 = np.arange(1,5).reshape(2,2)\n",
    "a2 = np.arange(5,9).reshape(2,2)\n",
    "print(a1)\n",
    "print(a1*5)\n",
    "print(a1>3)"
   ]
  },
  {
   "cell_type": "code",
   "execution_count": 8,
   "id": "005334a8-cad9-4ee4-8151-bdbf882ab6c6",
   "metadata": {},
   "outputs": [
    {
     "name": "stdout",
     "output_type": "stream",
     "text": [
      "[[ 6  8]\n",
      " [10 12]]\n",
      "[[False False]\n",
      " [False False]]\n",
      "[[ True  True]\n",
      " [ True  True]]\n"
     ]
    }
   ],
   "source": [
    "# vector operations\n",
    "print(a1+a2) # arithmetic \n",
    "print(a1==a2) # relational\n",
    "print(a1<=a2)"
   ]
  },
  {
   "cell_type": "markdown",
   "id": "e9d5ed8c-35b7-4686-b052-e92ad8569918",
   "metadata": {},
   "source": [
    "# Array functions\n",
    "- min, max, sum, prod (can be applied on entire array or row/column wise)\n",
    "- mean, median, std, var\n",
    "- log, exp\n",
    "- sin/cos/tan\n",
    "- dot (for dot product)\n",
    "- round, floor, ceil"
   ]
  },
  {
   "cell_type": "code",
   "execution_count": 17,
   "id": "535d0433-7448-488d-b70e-1cfb245b65e4",
   "metadata": {},
   "outputs": [
    {
     "name": "stdout",
     "output_type": "stream",
     "text": [
      "[[0.88212689 0.13457101 0.53384349]\n",
      " [0.11101174 0.29328801 0.03704078]]\n",
      "[[9. 1. 5.]\n",
      " [1. 3. 0.]]\n"
     ]
    }
   ],
   "source": [
    "v = np.random.random((2,3))\n",
    "print(v)\n",
    "v = np.round(v*10)\n",
    "print(v)"
   ]
  },
  {
   "cell_type": "code",
   "execution_count": 10,
   "id": "8d4d090a-80d7-4eab-80b6-f09cac9e76aa",
   "metadata": {},
   "outputs": [
    {
     "name": "stdout",
     "output_type": "stream",
     "text": [
      "8.0\n",
      "0.0\n"
     ]
    }
   ],
   "source": [
    "print(np.max(v))\n",
    "print(np.prod(v))"
   ]
  },
  {
   "cell_type": "code",
   "execution_count": 11,
   "id": "a7d09b81-e13b-4ec6-88d9-3ffddab08f73",
   "metadata": {},
   "outputs": [
    {
     "name": "stdout",
     "output_type": "stream",
     "text": [
      "[8. 8.]\n",
      "[ 0. 64. 15.]\n",
      "[13. 16.]\n"
     ]
    }
   ],
   "source": [
    "# to find sum/max/min/prod either column or row wise\n",
    "# axis = 0 for col, axis = 1 for row\n",
    "print(np.max(v,axis=1))\n",
    "print(np.prod(v,axis=0))\n",
    "print(np.sum(v,axis=1))"
   ]
  },
  {
   "cell_type": "code",
   "execution_count": 12,
   "id": "6c620d44-7780-480d-8346-680b09153937",
   "metadata": {},
   "outputs": [
    {
     "name": "stdout",
     "output_type": "stream",
     "text": [
      "2.6\n",
      "1.854723699099141\n",
      "2.0\n"
     ]
    }
   ],
   "source": [
    "a = np.array([1,2,3,6,1])\n",
    "print(np.mean(a))\n",
    "print(np.std(a))\n",
    "print(np.median(a))"
   ]
  },
  {
   "cell_type": "code",
   "execution_count": 13,
   "id": "2cbd6e07-9449-4d77-87ac-934b9955d250",
   "metadata": {},
   "outputs": [
    {
     "data": {
      "text/plain": [
       "array([ 0.54030231, -0.41614684, -0.9899925 ,  0.96017029,  0.54030231])"
      ]
     },
     "execution_count": 13,
     "metadata": {},
     "output_type": "execute_result"
    }
   ],
   "source": [
    "np.cos(a)"
   ]
  },
  {
   "cell_type": "code",
   "execution_count": 14,
   "id": "ad19f54e-2775-496a-a782-34bdcb7d5615",
   "metadata": {},
   "outputs": [
    {
     "name": "stdout",
     "output_type": "stream",
     "text": [
      "[[245 260]\n",
      " [620 660]]\n"
     ]
    }
   ],
   "source": [
    "m1 = np.arange(1,11).reshape(2,5)\n",
    "m2 = np.arange(11,21).reshape(5,2)\n",
    "\n",
    "print(np.dot(m1,m2)) # it is necessary that the columns in first matrix must be same as the rows in second one for a dot product"
   ]
  },
  {
   "cell_type": "code",
   "execution_count": 22,
   "id": "5249be64-9d6a-48f1-9be5-12ea2ee78995",
   "metadata": {},
   "outputs": [
    {
     "name": "stdout",
     "output_type": "stream",
     "text": [
      "[[9. 1. 5.]\n",
      " [1. 3. 0.]]\n",
      "[[900. 100. 500.]\n",
      " [100. 300.   0.]]\n"
     ]
    }
   ],
   "source": [
    "print(v)\n",
    "print(np.round(v*100))"
   ]
  },
  {
   "cell_type": "code",
   "execution_count": 37,
   "id": "a204109c-3011-4d8f-9b96-df47b75e094d",
   "metadata": {},
   "outputs": [
    {
     "name": "stdout",
     "output_type": "stream",
     "text": [
      "[[9. 1. 5.]\n",
      " [1. 3. 0.]]\n"
     ]
    }
   ],
   "source": [
    "print(np.floor(v))"
   ]
  },
  {
   "cell_type": "code",
   "execution_count": 36,
   "id": "883ef091-a3ac-4c14-9317-4a09004f821f",
   "metadata": {},
   "outputs": [
    {
     "name": "stdout",
     "output_type": "stream",
     "text": [
      "[[9. 1. 5.]\n",
      " [1. 3. 0.]]\n"
     ]
    }
   ],
   "source": [
    "print(np.ceil(v))"
   ]
  }
 ],
 "metadata": {
  "kernelspec": {
   "display_name": "Python 3 (ipykernel)",
   "language": "python",
   "name": "python3"
  },
  "language_info": {
   "codemirror_mode": {
    "name": "ipython",
    "version": 3
   },
   "file_extension": ".py",
   "mimetype": "text/x-python",
   "name": "python",
   "nbconvert_exporter": "python",
   "pygments_lexer": "ipython3",
   "version": "3.12.7"
  }
 },
 "nbformat": 4,
 "nbformat_minor": 5
}
