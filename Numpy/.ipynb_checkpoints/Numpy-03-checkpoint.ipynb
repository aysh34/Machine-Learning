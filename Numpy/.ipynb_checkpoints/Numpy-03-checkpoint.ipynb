{
 "cells": [
  {
   "cell_type": "markdown",
   "id": "9abc213f-b381-4915-9863-6f616c3d6f14",
   "metadata": {},
   "source": [
    "# Idexing"
   ]
  },
  {
   "cell_type": "code",
   "execution_count": 1,
   "id": "9fa2c270-5023-43b1-ad97-97fd0d19fb4c",
   "metadata": {},
   "outputs": [
    {
     "data": {
      "text/plain": [
       "array([0, 1, 2, 3, 4])"
      ]
     },
     "execution_count": 1,
     "metadata": {},
     "output_type": "execute_result"
    }
   ],
   "source": [
    "import numpy as np\n",
    "a1 = np.arange(5)\n",
    "a1"
   ]
  },
  {
   "cell_type": "code",
   "execution_count": 2,
   "id": "8fa84378-dcb0-47f0-8748-870e29de5fed",
   "metadata": {},
   "outputs": [
    {
     "data": {
      "text/plain": [
       "array([[0, 1, 2, 3, 4],\n",
       "       [5, 6, 7, 8, 9]])"
      ]
     },
     "execution_count": 2,
     "metadata": {},
     "output_type": "execute_result"
    }
   ],
   "source": [
    "a2 = np.arange(10).reshape(2,5)\n",
    "a2"
   ]
  },
  {
   "cell_type": "code",
   "execution_count": 3,
   "id": "1d9648e9-0010-456b-8b58-7979764f64d7",
   "metadata": {},
   "outputs": [
    {
     "data": {
      "text/plain": [
       "array([[[ 0,  1,  2],\n",
       "        [ 3,  4,  5],\n",
       "        [ 6,  7,  8]],\n",
       "\n",
       "       [[ 9, 10, 11],\n",
       "        [12, 13, 14],\n",
       "        [15, 16, 17]],\n",
       "\n",
       "       [[18, 19, 20],\n",
       "        [21, 22, 23],\n",
       "        [24, 25, 26]]])"
      ]
     },
     "execution_count": 3,
     "metadata": {},
     "output_type": "execute_result"
    }
   ],
   "source": [
    "a3 = np.arange(27).reshape(3,3,3)\n",
    "a3"
   ]
  },
  {
   "cell_type": "code",
   "execution_count": 4,
   "id": "98984bc8-b81b-4c01-a96a-d3ec7e58f0cf",
   "metadata": {},
   "outputs": [
    {
     "data": {
      "text/plain": [
       "2"
      ]
     },
     "execution_count": 4,
     "metadata": {},
     "output_type": "execute_result"
    }
   ],
   "source": [
    "a1[2]"
   ]
  },
  {
   "cell_type": "code",
   "execution_count": 5,
   "id": "032d7ce2-56ca-4bcc-93d6-6b8954704d4e",
   "metadata": {},
   "outputs": [
    {
     "data": {
      "text/plain": [
       "array([5, 6, 7, 8, 9])"
      ]
     },
     "execution_count": 5,
     "metadata": {},
     "output_type": "execute_result"
    }
   ],
   "source": [
    "a2[1]"
   ]
  },
  {
   "cell_type": "code",
   "execution_count": 6,
   "id": "234a92d6-cc1d-49c5-801c-0683320bd092",
   "metadata": {},
   "outputs": [
    {
     "data": {
      "text/plain": [
       "array([[18, 19, 20],\n",
       "       [21, 22, 23],\n",
       "       [24, 25, 26]])"
      ]
     },
     "execution_count": 6,
     "metadata": {},
     "output_type": "execute_result"
    }
   ],
   "source": [
    "a3[2]"
   ]
  },
  {
   "cell_type": "markdown",
   "id": "20b1ec2b-6068-4b22-950b-36191fd6dd4b",
   "metadata": {},
   "source": [
    "# Slicing"
   ]
  },
  {
   "cell_type": "code",
   "execution_count": 7,
   "id": "0ccf7fbd-d05e-43f2-954b-7c3e47b62f34",
   "metadata": {},
   "outputs": [
    {
     "data": {
      "text/plain": [
       "array([1, 2])"
      ]
     },
     "execution_count": 7,
     "metadata": {},
     "output_type": "execute_result"
    }
   ],
   "source": [
    "a1[1:3]"
   ]
  },
  {
   "cell_type": "code",
   "execution_count": 8,
   "id": "1e82176b-237a-495e-8ae8-95ae802d0317",
   "metadata": {},
   "outputs": [
    {
     "data": {
      "text/plain": [
       "array([1, 3])"
      ]
     },
     "execution_count": 8,
     "metadata": {},
     "output_type": "execute_result"
    }
   ],
   "source": [
    "a1[1::2] # starts from index 1 and goes to the end with a jump of 2"
   ]
  },
  {
   "cell_type": "markdown",
   "id": "595060b2-af29-47d0-b428-97310fe86d25",
   "metadata": {},
   "source": [
    "### 2D numpy array"
   ]
  },
  {
   "cell_type": "code",
   "execution_count": 9,
   "id": "bb2dfbfc-ac22-4d4f-8467-ce4675c53ab6",
   "metadata": {},
   "outputs": [
    {
     "data": {
      "text/plain": [
       "array([1, 6])"
      ]
     },
     "execution_count": 9,
     "metadata": {},
     "output_type": "execute_result"
    }
   ],
   "source": [
    "a2[:,1] # column 1 only"
   ]
  },
  {
   "cell_type": "code",
   "execution_count": 10,
   "id": "50f7345a-1716-4a72-86fb-a7da54b087ea",
   "metadata": {},
   "outputs": [
    {
     "data": {
      "text/plain": [
       "array([[0, 4],\n",
       "       [5, 9]])"
      ]
     },
     "execution_count": 10,
     "metadata": {},
     "output_type": "execute_result"
    }
   ],
   "source": [
    "a2[:,0::4] # 1st and last column"
   ]
  },
  {
   "cell_type": "code",
   "execution_count": 11,
   "id": "a8a9fb0f-43cc-435c-b2e3-71818adf4bdc",
   "metadata": {},
   "outputs": [
    {
     "data": {
      "text/plain": [
       "array([8, 9])"
      ]
     },
     "execution_count": 11,
     "metadata": {},
     "output_type": "execute_result"
    }
   ],
   "source": [
    "a2[1,3:5] # only 8 and 9 "
   ]
  },
  {
   "cell_type": "markdown",
   "id": "1a93d63b-3e16-4763-86e3-b7c22846066c",
   "metadata": {},
   "source": [
    "### 3D numpy array"
   ]
  },
  {
   "cell_type": "code",
   "execution_count": 12,
   "id": "c7bcd890-3247-444a-b9c5-525f583d8003",
   "metadata": {},
   "outputs": [
    {
     "data": {
      "text/plain": [
       "array([ 9, 10, 11])"
      ]
     },
     "execution_count": 12,
     "metadata": {},
     "output_type": "execute_result"
    }
   ],
   "source": [
    "a3[1,0,:]"
   ]
  },
  {
   "cell_type": "code",
   "execution_count": 13,
   "id": "37dfab07-7714-4fa2-b846-a11edd77e25f",
   "metadata": {},
   "outputs": [
    {
     "data": {
      "text/plain": [
       "array([[18, 19, 20],\n",
       "       [24, 25, 26]])"
      ]
     },
     "execution_count": 13,
     "metadata": {},
     "output_type": "execute_result"
    }
   ],
   "source": [
    "a3[2,0::2,:]"
   ]
  },
  {
   "cell_type": "code",
   "execution_count": 14,
   "id": "dce97aca-2f1b-4ebf-bfcd-f9b51fcca5d9",
   "metadata": {},
   "outputs": [
    {
     "data": {
      "text/plain": [
       "array([[ 0,  1,  2],\n",
       "       [18, 19, 20]])"
      ]
     },
     "execution_count": 14,
     "metadata": {},
     "output_type": "execute_result"
    }
   ],
   "source": [
    "a3[0::2,0,:]"
   ]
  },
  {
   "cell_type": "code",
   "execution_count": 15,
   "id": "98789712-0a1f-4d51-ac2a-d5d19efd9e19",
   "metadata": {},
   "outputs": [
    {
     "data": {
      "text/plain": [
       "array([20, 23, 26])"
      ]
     },
     "execution_count": 15,
     "metadata": {},
     "output_type": "execute_result"
    }
   ],
   "source": [
    "a3[-1,:,-1] # [index of matrices: rows of those matrices: columns of those matrices]"
   ]
  },
  {
   "cell_type": "code",
   "execution_count": 16,
   "id": "068c673e-199e-4536-89be-f8429729917b",
   "metadata": {},
   "outputs": [
    {
     "data": {
      "text/plain": [
       "array([[ 9, 10],\n",
       "       [12, 13],\n",
       "       [15, 16]])"
      ]
     },
     "execution_count": 16,
     "metadata": {},
     "output_type": "execute_result"
    }
   ],
   "source": [
    "a3[1,:,0:2]"
   ]
  },
  {
   "cell_type": "code",
   "execution_count": 17,
   "id": "41337192-2686-42ac-bacf-b6be4e6fa31f",
   "metadata": {},
   "outputs": [
    {
     "data": {
      "text/plain": [
       "array([[[ 0,  1],\n",
       "        [ 3,  4],\n",
       "        [ 6,  7]],\n",
       "\n",
       "       [[18, 19],\n",
       "        [21, 22],\n",
       "        [24, 25]]])"
      ]
     },
     "execution_count": 17,
     "metadata": {},
     "output_type": "execute_result"
    }
   ],
   "source": [
    "a3[0::2,:,0:2]"
   ]
  },
  {
   "cell_type": "markdown",
   "id": "ff21a506-a99c-4f18-871f-661998a36db0",
   "metadata": {},
   "source": [
    "# Iteration"
   ]
  },
  {
   "cell_type": "code",
   "execution_count": 18,
   "id": "549df0d6-7fb1-4f43-a4f0-d032afc04fc5",
   "metadata": {},
   "outputs": [
    {
     "name": "stdout",
     "output_type": "stream",
     "text": [
      "[0 1 2 3 4]\n",
      "[5 6 7 8 9]\n"
     ]
    }
   ],
   "source": [
    "for i in a2:\n",
    "    print(i)"
   ]
  },
  {
   "cell_type": "code",
   "execution_count": 19,
   "id": "995491d1-d305-4127-b252-7184e760315d",
   "metadata": {},
   "outputs": [
    {
     "name": "stdout",
     "output_type": "stream",
     "text": [
      "[[0 1 2]\n",
      " [3 4 5]\n",
      " [6 7 8]]\n",
      "[[ 9 10 11]\n",
      " [12 13 14]\n",
      " [15 16 17]]\n",
      "[[18 19 20]\n",
      " [21 22 23]\n",
      " [24 25 26]]\n"
     ]
    }
   ],
   "source": [
    "for i in a3:\n",
    "    print(i)"
   ]
  },
  {
   "cell_type": "code",
   "execution_count": 20,
   "id": "4a14f79b-d583-4bf1-8414-a8ac71fa726d",
   "metadata": {},
   "outputs": [
    {
     "name": "stdout",
     "output_type": "stream",
     "text": [
      "0\n",
      "1\n",
      "2\n",
      "3\n",
      "4\n",
      "5\n",
      "6\n",
      "7\n",
      "8\n",
      "9\n",
      "10\n",
      "11\n",
      "12\n",
      "13\n",
      "14\n",
      "15\n",
      "16\n",
      "17\n",
      "18\n",
      "19\n",
      "20\n",
      "21\n",
      "22\n",
      "23\n",
      "24\n",
      "25\n",
      "26\n"
     ]
    }
   ],
   "source": [
    "for i in np.nditer(a3): # its prints all the elements of ndarray\n",
    "    print(i)\n"
   ]
  },
  {
   "cell_type": "markdown",
   "id": "5f950f07-9000-4833-b7fd-e45802e533ff",
   "metadata": {},
   "source": [
    "### ravel, transpose function"
   ]
  },
  {
   "cell_type": "code",
   "execution_count": 21,
   "id": "9f7b9b27-d978-4d2d-9de3-4186f93467e4",
   "metadata": {},
   "outputs": [
    {
     "data": {
      "text/plain": [
       "array([ 0,  1,  2,  3,  4,  5,  6,  7,  8,  9, 10, 11, 12, 13, 14, 15, 16,\n",
       "       17, 18, 19, 20, 21, 22, 23, 24, 25, 26])"
      ]
     },
     "execution_count": 21,
     "metadata": {},
     "output_type": "execute_result"
    }
   ],
   "source": [
    "np.ravel(a3) # convert ndarray to 1D"
   ]
  },
  {
   "cell_type": "code",
   "execution_count": 22,
   "id": "275b1eb4-7b62-4206-9ee6-d6c1b1fe526c",
   "metadata": {},
   "outputs": [
    {
     "data": {
      "text/plain": [
       "array([[0, 5],\n",
       "       [1, 6],\n",
       "       [2, 7],\n",
       "       [3, 8],\n",
       "       [4, 9]])"
      ]
     },
     "execution_count": 22,
     "metadata": {},
     "output_type": "execute_result"
    }
   ],
   "source": [
    "a2.transpose()\n",
    "a2.T"
   ]
  },
  {
   "cell_type": "markdown",
   "id": "f7c8b70c-5233-4aa0-ad3d-495b1769e50a",
   "metadata": {},
   "source": [
    "# Stacking \n",
    "- hstack\n",
    "- vstack\n",
    "- dstack for depth(3D)"
   ]
  },
  {
   "cell_type": "code",
   "execution_count": 23,
   "id": "bc688c0d-9664-4705-9358-9fdd8003a516",
   "metadata": {},
   "outputs": [
    {
     "data": {
      "text/plain": [
       "array([[0, 1, 2, 3, 4],\n",
       "       [5, 6, 7, 8, 9]])"
      ]
     },
     "execution_count": 23,
     "metadata": {},
     "output_type": "execute_result"
    }
   ],
   "source": [
    "a4 = np.arange(10).reshape(2,5)\n",
    "a5 = np.arange(10,20).reshape(2,5)\n",
    "a4"
   ]
  },
  {
   "cell_type": "code",
   "execution_count": 24,
   "id": "1bd0a5be-9fd0-4e09-ae2a-92dacb86fbff",
   "metadata": {},
   "outputs": [
    {
     "data": {
      "text/plain": [
       "array([[10, 11, 12, 13, 14],\n",
       "       [15, 16, 17, 18, 19]])"
      ]
     },
     "execution_count": 24,
     "metadata": {},
     "output_type": "execute_result"
    }
   ],
   "source": [
    "a5"
   ]
  },
  {
   "cell_type": "code",
   "execution_count": 25,
   "id": "a1c3ba8b-c182-49f3-9176-bfa1f4ce54d2",
   "metadata": {},
   "outputs": [
    {
     "data": {
      "text/plain": [
       "array([[ 0,  1,  2,  3,  4, 10, 11, 12, 13, 14],\n",
       "       [ 5,  6,  7,  8,  9, 15, 16, 17, 18, 19]])"
      ]
     },
     "execution_count": 25,
     "metadata": {},
     "output_type": "execute_result"
    }
   ],
   "source": [
    "np.hstack((a4,a5))"
   ]
  },
  {
   "cell_type": "code",
   "execution_count": 26,
   "id": "5940cf42-6a2e-4e67-9d86-6354b920d851",
   "metadata": {},
   "outputs": [
    {
     "data": {
      "text/plain": [
       "array([[ 0,  1,  2,  3,  4],\n",
       "       [ 5,  6,  7,  8,  9],\n",
       "       [10, 11, 12, 13, 14],\n",
       "       [15, 16, 17, 18, 19]])"
      ]
     },
     "execution_count": 26,
     "metadata": {},
     "output_type": "execute_result"
    }
   ],
   "source": [
    "np.vstack((a4,a5))"
   ]
  },
  {
   "cell_type": "code",
   "execution_count": 27,
   "id": "79f66047-10f3-4d97-9771-4e89bc949ada",
   "metadata": {},
   "outputs": [
    {
     "data": {
      "text/plain": [
       "[array([[0],\n",
       "        [5]]),\n",
       " array([[1],\n",
       "        [6]]),\n",
       " array([[2],\n",
       "        [7]]),\n",
       " array([[3],\n",
       "        [8]]),\n",
       " array([[4],\n",
       "        [9]])]"
      ]
     },
     "execution_count": 27,
     "metadata": {},
     "output_type": "execute_result"
    }
   ],
   "source": [
    "np.hsplit(a4,5)"
   ]
  },
  {
   "cell_type": "code",
   "execution_count": 28,
   "id": "1a22f05d-0500-4bae-b42d-b44b4037620f",
   "metadata": {},
   "outputs": [
    {
     "data": {
      "text/plain": [
       "[array([[10, 11, 12, 13, 14]]), array([[15, 16, 17, 18, 19]])]"
      ]
     },
     "execution_count": 28,
     "metadata": {},
     "output_type": "execute_result"
    }
   ],
   "source": [
    "np.vsplit(a5,2)"
   ]
  },
  {
   "cell_type": "code",
   "execution_count": null,
   "id": "2848fb7c-df17-4d32-91ed-9c44bc7392e9",
   "metadata": {},
   "outputs": [],
   "source": []
  }
 ],
 "metadata": {
  "kernelspec": {
   "display_name": "Python 3 (ipykernel)",
   "language": "python",
   "name": "python3"
  },
  "language_info": {
   "codemirror_mode": {
    "name": "ipython",
    "version": 3
   },
   "file_extension": ".py",
   "mimetype": "text/x-python",
   "name": "python",
   "nbconvert_exporter": "python",
   "pygments_lexer": "ipython3",
   "version": "3.12.7"
  }
 },
 "nbformat": 4,
 "nbformat_minor": 5
}
